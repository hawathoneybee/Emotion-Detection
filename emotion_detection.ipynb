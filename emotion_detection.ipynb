{
 "cells": [
  {
   "cell_type": "code",
   "execution_count": 1,
   "metadata": {},
   "outputs": [],
   "source": [
    "import pandas as pd\n",
    "#import numpy as np"
   ]
  },
  {
   "cell_type": "code",
   "execution_count": 2,
   "metadata": {},
   "outputs": [
    {
     "output_type": "execute_result",
     "data": {
      "text/plain": "     tweet_id  emotion       author  \\\n0  1956967666  sadness    wannamama   \n1  1956967696  sadness    coolfunky   \n2  1956968487  sadness     ShansBee   \n3  1956969035  sadness  nic0lepaula   \n4  1956969172  sadness   Ingenue_Em   \n\n                                             content  \n0  Layin n bed with a headache  ughhhh...waitin o...  \n1                Funeral ceremony...gloomy friday...  \n2  I should be sleep, but im not! thinking about ...  \n3            @charviray Charlene my love. I miss you  \n4         @kelcouch I'm sorry  at least it's Friday?  ",
      "text/html": "<div>\n<style scoped>\n    .dataframe tbody tr th:only-of-type {\n        vertical-align: middle;\n    }\n\n    .dataframe tbody tr th {\n        vertical-align: top;\n    }\n\n    .dataframe thead th {\n        text-align: right;\n    }\n</style>\n<table border=\"1\" class=\"dataframe\">\n  <thead>\n    <tr style=\"text-align: right;\">\n      <th></th>\n      <th>tweet_id</th>\n      <th>emotion</th>\n      <th>author</th>\n      <th>content</th>\n    </tr>\n  </thead>\n  <tbody>\n    <tr>\n      <th>0</th>\n      <td>1956967666</td>\n      <td>sadness</td>\n      <td>wannamama</td>\n      <td>Layin n bed with a headache  ughhhh...waitin o...</td>\n    </tr>\n    <tr>\n      <th>1</th>\n      <td>1956967696</td>\n      <td>sadness</td>\n      <td>coolfunky</td>\n      <td>Funeral ceremony...gloomy friday...</td>\n    </tr>\n    <tr>\n      <th>2</th>\n      <td>1956968487</td>\n      <td>sadness</td>\n      <td>ShansBee</td>\n      <td>I should be sleep, but im not! thinking about ...</td>\n    </tr>\n    <tr>\n      <th>3</th>\n      <td>1956969035</td>\n      <td>sadness</td>\n      <td>nic0lepaula</td>\n      <td>@charviray Charlene my love. I miss you</td>\n    </tr>\n    <tr>\n      <th>4</th>\n      <td>1956969172</td>\n      <td>sadness</td>\n      <td>Ingenue_Em</td>\n      <td>@kelcouch I'm sorry  at least it's Friday?</td>\n    </tr>\n  </tbody>\n</table>\n</div>"
     },
     "metadata": {},
     "execution_count": 2
    }
   ],
   "source": [
    "#Read the DataFrame\n",
    "df=pd.read_csv('text_emotion.csv')\n",
    "df.head()"
   ]
  },
  {
   "cell_type": "code",
   "execution_count": 3,
   "metadata": {},
   "outputs": [
    {
     "output_type": "execute_result",
     "data": {
      "text/plain": "   emotion                                            content\n0  sadness  Layin n bed with a headache  ughhhh...waitin o...\n1  sadness                Funeral ceremony...gloomy friday...\n2  sadness  I should be sleep, but im not! thinking about ...\n3  sadness            @charviray Charlene my love. I miss you\n4  sadness         @kelcouch I'm sorry  at least it's Friday?",
      "text/html": "<div>\n<style scoped>\n    .dataframe tbody tr th:only-of-type {\n        vertical-align: middle;\n    }\n\n    .dataframe tbody tr th {\n        vertical-align: top;\n    }\n\n    .dataframe thead th {\n        text-align: right;\n    }\n</style>\n<table border=\"1\" class=\"dataframe\">\n  <thead>\n    <tr style=\"text-align: right;\">\n      <th></th>\n      <th>emotion</th>\n      <th>content</th>\n    </tr>\n  </thead>\n  <tbody>\n    <tr>\n      <th>0</th>\n      <td>sadness</td>\n      <td>Layin n bed with a headache  ughhhh...waitin o...</td>\n    </tr>\n    <tr>\n      <th>1</th>\n      <td>sadness</td>\n      <td>Funeral ceremony...gloomy friday...</td>\n    </tr>\n    <tr>\n      <th>2</th>\n      <td>sadness</td>\n      <td>I should be sleep, but im not! thinking about ...</td>\n    </tr>\n    <tr>\n      <th>3</th>\n      <td>sadness</td>\n      <td>@charviray Charlene my love. I miss you</td>\n    </tr>\n    <tr>\n      <th>4</th>\n      <td>sadness</td>\n      <td>@kelcouch I'm sorry  at least it's Friday?</td>\n    </tr>\n  </tbody>\n</table>\n</div>"
     },
     "metadata": {},
     "execution_count": 3
    }
   ],
   "source": [
    "#remove unwanted columns\n",
    "df=df.drop(['tweet_id','author'], axis =1)\n",
    "df.head()"
   ]
  },
  {
   "cell_type": "code",
   "execution_count": 4,
   "metadata": {},
   "outputs": [
    {
     "output_type": "execute_result",
     "data": {
      "text/plain": "   emotion                                            content\n0  sadness  layin n bed with a headache  ughhhh...waitin o...\n1  sadness                funeral ceremony...gloomy friday...\n2  sadness  i should be sleep, but im not! thinking about ...\n3  sadness            @charviray charlene my love. i miss you\n4  sadness         @kelcouch i'm sorry  at least it's friday?",
      "text/html": "<div>\n<style scoped>\n    .dataframe tbody tr th:only-of-type {\n        vertical-align: middle;\n    }\n\n    .dataframe tbody tr th {\n        vertical-align: top;\n    }\n\n    .dataframe thead th {\n        text-align: right;\n    }\n</style>\n<table border=\"1\" class=\"dataframe\">\n  <thead>\n    <tr style=\"text-align: right;\">\n      <th></th>\n      <th>emotion</th>\n      <th>content</th>\n    </tr>\n  </thead>\n  <tbody>\n    <tr>\n      <th>0</th>\n      <td>sadness</td>\n      <td>layin n bed with a headache  ughhhh...waitin o...</td>\n    </tr>\n    <tr>\n      <th>1</th>\n      <td>sadness</td>\n      <td>funeral ceremony...gloomy friday...</td>\n    </tr>\n    <tr>\n      <th>2</th>\n      <td>sadness</td>\n      <td>i should be sleep, but im not! thinking about ...</td>\n    </tr>\n    <tr>\n      <th>3</th>\n      <td>sadness</td>\n      <td>@charviray charlene my love. i miss you</td>\n    </tr>\n    <tr>\n      <th>4</th>\n      <td>sadness</td>\n      <td>@kelcouch i'm sorry  at least it's friday?</td>\n    </tr>\n  </tbody>\n</table>\n</div>"
     },
     "metadata": {},
     "execution_count": 4
    }
   ],
   "source": [
    "#convert content to lowercase\n",
    "df.content=df.content.str.lower()\n",
    "df.head()"
   ]
  },
  {
   "cell_type": "code",
   "execution_count": 5,
   "metadata": {},
   "outputs": [
    {
     "output_type": "execute_result",
     "data": {
      "text/plain": "   emotion                                            content\n0  sadness  layin n bed with a headache  ughhhh...waitin o...\n1  sadness                funeral ceremony...gloomy friday...\n2  sadness  i should be sleep, but im not! thinking about ...\n3  sadness            @charviray charlene my love. i miss you\n4  sadness         @kelcouch i'm sorry  at least it's friday?",
      "text/html": "<div>\n<style scoped>\n    .dataframe tbody tr th:only-of-type {\n        vertical-align: middle;\n    }\n\n    .dataframe tbody tr th {\n        vertical-align: top;\n    }\n\n    .dataframe thead th {\n        text-align: right;\n    }\n</style>\n<table border=\"1\" class=\"dataframe\">\n  <thead>\n    <tr style=\"text-align: right;\">\n      <th></th>\n      <th>emotion</th>\n      <th>content</th>\n    </tr>\n  </thead>\n  <tbody>\n    <tr>\n      <th>0</th>\n      <td>sadness</td>\n      <td>layin n bed with a headache  ughhhh...waitin o...</td>\n    </tr>\n    <tr>\n      <th>1</th>\n      <td>sadness</td>\n      <td>funeral ceremony...gloomy friday...</td>\n    </tr>\n    <tr>\n      <th>2</th>\n      <td>sadness</td>\n      <td>i should be sleep, but im not! thinking about ...</td>\n    </tr>\n    <tr>\n      <th>3</th>\n      <td>sadness</td>\n      <td>@charviray charlene my love. i miss you</td>\n    </tr>\n    <tr>\n      <th>4</th>\n      <td>sadness</td>\n      <td>@kelcouch i'm sorry  at least it's friday?</td>\n    </tr>\n  </tbody>\n</table>\n</div>"
     },
     "metadata": {},
     "execution_count": 5
    }
   ],
   "source": [
    "#replace blank space\n",
    "df.content=df.content.str.replace(\"rt\",\"\")\n",
    "df.head()"
   ]
  },
  {
   "cell_type": "code",
   "execution_count": 6,
   "metadata": {},
   "outputs": [
    {
     "output_type": "execute_result",
     "data": {
      "text/plain": "   emotion                                            content\n0  sadness  layin n bed with a headache  ughhhh...waitin o...\n1  sadness                funeral ceremony...gloomy friday...\n2  sadness  i should be sleep, but im not! thinking about ...\n3  sadness                       charlene my love. i miss you\n4  sadness                   i'm sorry  at least it's friday?",
      "text/html": "<div>\n<style scoped>\n    .dataframe tbody tr th:only-of-type {\n        vertical-align: middle;\n    }\n\n    .dataframe tbody tr th {\n        vertical-align: top;\n    }\n\n    .dataframe thead th {\n        text-align: right;\n    }\n</style>\n<table border=\"1\" class=\"dataframe\">\n  <thead>\n    <tr style=\"text-align: right;\">\n      <th></th>\n      <th>emotion</th>\n      <th>content</th>\n    </tr>\n  </thead>\n  <tbody>\n    <tr>\n      <th>0</th>\n      <td>sadness</td>\n      <td>layin n bed with a headache  ughhhh...waitin o...</td>\n    </tr>\n    <tr>\n      <th>1</th>\n      <td>sadness</td>\n      <td>funeral ceremony...gloomy friday...</td>\n    </tr>\n    <tr>\n      <th>2</th>\n      <td>sadness</td>\n      <td>i should be sleep, but im not! thinking about ...</td>\n    </tr>\n    <tr>\n      <th>3</th>\n      <td>sadness</td>\n      <td>charlene my love. i miss you</td>\n    </tr>\n    <tr>\n      <th>4</th>\n      <td>sadness</td>\n      <td>i'm sorry  at least it's friday?</td>\n    </tr>\n  </tbody>\n</table>\n</div>"
     },
     "metadata": {},
     "execution_count": 6
    }
   ],
   "source": [
    "#replace @username\n",
    "df.content=df.content.str.replace(\"@\\\\w+\",\"\")\n",
    "df.head()"
   ]
  },
  {
   "cell_type": "code",
   "execution_count": 7,
   "metadata": {},
   "outputs": [
    {
     "output_type": "execute_result",
     "data": {
      "text/plain": "   emotion                                            content\n0  sadness  layin n bed with a headache  ughhhh...waitin o...\n1  sadness                funeral ceremony...gloomy friday...\n2  sadness  i should be sleep, but im not! thinking about ...\n3  sadness                       charlene my love. i miss you\n4  sadness                   i'm sorry  at least it's friday?",
      "text/html": "<div>\n<style scoped>\n    .dataframe tbody tr th:only-of-type {\n        vertical-align: middle;\n    }\n\n    .dataframe tbody tr th {\n        vertical-align: top;\n    }\n\n    .dataframe thead th {\n        text-align: right;\n    }\n</style>\n<table border=\"1\" class=\"dataframe\">\n  <thead>\n    <tr style=\"text-align: right;\">\n      <th></th>\n      <th>emotion</th>\n      <th>content</th>\n    </tr>\n  </thead>\n  <tbody>\n    <tr>\n      <th>0</th>\n      <td>sadness</td>\n      <td>layin n bed with a headache  ughhhh...waitin o...</td>\n    </tr>\n    <tr>\n      <th>1</th>\n      <td>sadness</td>\n      <td>funeral ceremony...gloomy friday...</td>\n    </tr>\n    <tr>\n      <th>2</th>\n      <td>sadness</td>\n      <td>i should be sleep, but im not! thinking about ...</td>\n    </tr>\n    <tr>\n      <th>3</th>\n      <td>sadness</td>\n      <td>charlene my love. i miss you</td>\n    </tr>\n    <tr>\n      <th>4</th>\n      <td>sadness</td>\n      <td>i'm sorry  at least it's friday?</td>\n    </tr>\n  </tbody>\n</table>\n</div>"
     },
     "metadata": {},
     "execution_count": 7
    }
   ],
   "source": [
    "#remove punctuation\n",
    "df.content=df.content.str.replace(\"[[:punct:]]\",\"\")\n",
    "df.head()"
   ]
  },
  {
   "cell_type": "code",
   "execution_count": 8,
   "metadata": {},
   "outputs": [
    {
     "output_type": "execute_result",
     "data": {
      "text/plain": "   emotion                                            content\n0  sadness  layin n bed with a headache  ughhhh...waitin o...\n1  sadness                funeral ceremony...gloomy friday...\n2  sadness  i should be sleep, but im not! thinking about ...\n3  sadness                       charlene my love. i miss you\n4  sadness                   i'm sorry  at least it's friday?",
      "text/html": "<div>\n<style scoped>\n    .dataframe tbody tr th:only-of-type {\n        vertical-align: middle;\n    }\n\n    .dataframe tbody tr th {\n        vertical-align: top;\n    }\n\n    .dataframe thead th {\n        text-align: right;\n    }\n</style>\n<table border=\"1\" class=\"dataframe\">\n  <thead>\n    <tr style=\"text-align: right;\">\n      <th></th>\n      <th>emotion</th>\n      <th>content</th>\n    </tr>\n  </thead>\n  <tbody>\n    <tr>\n      <th>0</th>\n      <td>sadness</td>\n      <td>layin n bed with a headache  ughhhh...waitin o...</td>\n    </tr>\n    <tr>\n      <th>1</th>\n      <td>sadness</td>\n      <td>funeral ceremony...gloomy friday...</td>\n    </tr>\n    <tr>\n      <th>2</th>\n      <td>sadness</td>\n      <td>i should be sleep, but im not! thinking about ...</td>\n    </tr>\n    <tr>\n      <th>3</th>\n      <td>sadness</td>\n      <td>charlene my love. i miss you</td>\n    </tr>\n    <tr>\n      <th>4</th>\n      <td>sadness</td>\n      <td>i'm sorry  at least it's friday?</td>\n    </tr>\n  </tbody>\n</table>\n</div>"
     },
     "metadata": {},
     "execution_count": 8
    }
   ],
   "source": [
    "#remove links\n",
    "df.content=df.content.str.replace(\"http\\\\w+\",\"\")\n",
    "df.head()"
   ]
  },
  {
   "cell_type": "code",
   "execution_count": 9,
   "metadata": {},
   "outputs": [
    {
     "output_type": "execute_result",
     "data": {
      "text/plain": "   emotion                                            content\n0  sadness  layin n bed with a headacheughhhh...waitin on ...\n1  sadness                funeral ceremony...gloomy friday...\n2  sadness  i should be sleep, but im not! thinking about ...\n3  sadness                       charlene my love. i miss you\n4  sadness                     i'm sorryat least it's friday?",
      "text/html": "<div>\n<style scoped>\n    .dataframe tbody tr th:only-of-type {\n        vertical-align: middle;\n    }\n\n    .dataframe tbody tr th {\n        vertical-align: top;\n    }\n\n    .dataframe thead th {\n        text-align: right;\n    }\n</style>\n<table border=\"1\" class=\"dataframe\">\n  <thead>\n    <tr style=\"text-align: right;\">\n      <th></th>\n      <th>emotion</th>\n      <th>content</th>\n    </tr>\n  </thead>\n  <tbody>\n    <tr>\n      <th>0</th>\n      <td>sadness</td>\n      <td>layin n bed with a headacheughhhh...waitin on ...</td>\n    </tr>\n    <tr>\n      <th>1</th>\n      <td>sadness</td>\n      <td>funeral ceremony...gloomy friday...</td>\n    </tr>\n    <tr>\n      <th>2</th>\n      <td>sadness</td>\n      <td>i should be sleep, but im not! thinking about ...</td>\n    </tr>\n    <tr>\n      <th>3</th>\n      <td>sadness</td>\n      <td>charlene my love. i miss you</td>\n    </tr>\n    <tr>\n      <th>4</th>\n      <td>sadness</td>\n      <td>i'm sorryat least it's friday?</td>\n    </tr>\n  </tbody>\n</table>\n</div>"
     },
     "metadata": {},
     "execution_count": 9
    }
   ],
   "source": [
    "#remove tabs\n",
    "df.content=df.content.str.replace(\"[ |\\t]{2,}\",\"\")\n",
    "df.head()"
   ]
  },
  {
   "cell_type": "code",
   "execution_count": 10,
   "metadata": {},
   "outputs": [
    {
     "output_type": "execute_result",
     "data": {
      "text/plain": "   emotion                                            content\n0  sadness  layin n bed with a headacheughhhh...waitin on ...\n1  sadness                funeral ceremony...gloomy friday...\n2  sadness  i should be sleep, but im not! thinking about ...\n3  sadness                       charlene my love. i miss you\n4  sadness                     i'm sorryat least it's friday?",
      "text/html": "<div>\n<style scoped>\n    .dataframe tbody tr th:only-of-type {\n        vertical-align: middle;\n    }\n\n    .dataframe tbody tr th {\n        vertical-align: top;\n    }\n\n    .dataframe thead th {\n        text-align: right;\n    }\n</style>\n<table border=\"1\" class=\"dataframe\">\n  <thead>\n    <tr style=\"text-align: right;\">\n      <th></th>\n      <th>emotion</th>\n      <th>content</th>\n    </tr>\n  </thead>\n  <tbody>\n    <tr>\n      <th>0</th>\n      <td>sadness</td>\n      <td>layin n bed with a headacheughhhh...waitin on ...</td>\n    </tr>\n    <tr>\n      <th>1</th>\n      <td>sadness</td>\n      <td>funeral ceremony...gloomy friday...</td>\n    </tr>\n    <tr>\n      <th>2</th>\n      <td>sadness</td>\n      <td>i should be sleep, but im not! thinking about ...</td>\n    </tr>\n    <tr>\n      <th>3</th>\n      <td>sadness</td>\n      <td>charlene my love. i miss you</td>\n    </tr>\n    <tr>\n      <th>4</th>\n      <td>sadness</td>\n      <td>i'm sorryat least it's friday?</td>\n    </tr>\n  </tbody>\n</table>\n</div>"
     },
     "metadata": {},
     "execution_count": 10
    }
   ],
   "source": [
    "#remove blank spaces at the beginning\n",
    "df.content=df.content.str.replace(\"^ \",\"\")\n",
    "df.head()"
   ]
  },
  {
   "cell_type": "code",
   "execution_count": 11,
   "metadata": {},
   "outputs": [
    {
     "output_type": "execute_result",
     "data": {
      "text/plain": "   emotion                                            content\n0  sadness  layin n bed with a headacheughhhh...waitin on ...\n1  sadness                funeral ceremony...gloomy friday...\n2  sadness  i should be sleep, but im not! thinking about ...\n3  sadness                       charlene my love. i miss you\n4  sadness                     i'm sorryat least it's friday?",
      "text/html": "<div>\n<style scoped>\n    .dataframe tbody tr th:only-of-type {\n        vertical-align: middle;\n    }\n\n    .dataframe tbody tr th {\n        vertical-align: top;\n    }\n\n    .dataframe thead th {\n        text-align: right;\n    }\n</style>\n<table border=\"1\" class=\"dataframe\">\n  <thead>\n    <tr style=\"text-align: right;\">\n      <th></th>\n      <th>emotion</th>\n      <th>content</th>\n    </tr>\n  </thead>\n  <tbody>\n    <tr>\n      <th>0</th>\n      <td>sadness</td>\n      <td>layin n bed with a headacheughhhh...waitin on ...</td>\n    </tr>\n    <tr>\n      <th>1</th>\n      <td>sadness</td>\n      <td>funeral ceremony...gloomy friday...</td>\n    </tr>\n    <tr>\n      <th>2</th>\n      <td>sadness</td>\n      <td>i should be sleep, but im not! thinking about ...</td>\n    </tr>\n    <tr>\n      <th>3</th>\n      <td>sadness</td>\n      <td>charlene my love. i miss you</td>\n    </tr>\n    <tr>\n      <th>4</th>\n      <td>sadness</td>\n      <td>i'm sorryat least it's friday?</td>\n    </tr>\n  </tbody>\n</table>\n</div>"
     },
     "metadata": {},
     "execution_count": 11
    }
   ],
   "source": [
    "#remove blank spaces at the end\n",
    "df.content=df.content.str.replace(\" $\",\"\")\n",
    "df.head()"
   ]
  },
  {
   "cell_type": "code",
   "execution_count": 12,
   "metadata": {},
   "outputs": [
    {
     "output_type": "execute_result",
     "data": {
      "text/plain": "happiness    5209\nsadness      5165\nsurprise     2187\nanger         110\nName: emotion, dtype: int64"
     },
     "metadata": {},
     "execution_count": 12
    }
   ],
   "source": [
    "emotion_type=df.emotion.value_counts()\n",
    "emotion_type"
   ]
  },
  {
   "cell_type": "code",
   "execution_count": 13,
   "metadata": {},
   "outputs": [
    {
     "output_type": "execute_result",
     "data": {
      "text/plain": "0    layin n bed with a headacheughhhh...waitin on ...\n1                  funeral ceremony...gloomy friday...\n2    i should be sleep, but im not! thinking about ...\n3                         charlene my love. i miss you\n4                       i'm sorryat least it's friday?\nName: content, dtype: object"
     },
     "metadata": {},
     "execution_count": 13
    }
   ],
   "source": [
    "X=df.content\n",
    "X.head()"
   ]
  },
  {
   "cell_type": "code",
   "execution_count": 14,
   "metadata": {
    "tags": []
   },
   "outputs": [
    {
     "output_type": "stream",
     "name": "stdout",
     "text": "(12671,)\n"
    }
   ],
   "source": [
    "print(X.shape)"
   ]
  },
  {
   "cell_type": "code",
   "execution_count": 15,
   "metadata": {},
   "outputs": [
    {
     "output_type": "execute_result",
     "data": {
      "text/plain": "0    sadness\n1    sadness\n2    sadness\n3    sadness\n4    sadness\nName: emotion, dtype: object"
     },
     "metadata": {},
     "execution_count": 15
    }
   ],
   "source": [
    "y=df.emotion\n",
    "y.head()"
   ]
  },
  {
   "cell_type": "code",
   "execution_count": 16,
   "metadata": {
    "tags": []
   },
   "outputs": [
    {
     "output_type": "stream",
     "name": "stdout",
     "text": "(12671,)\n"
    }
   ],
   "source": [
    "print(y.shape)"
   ]
  },
  {
   "cell_type": "code",
   "execution_count": 17,
   "metadata": {},
   "outputs": [],
   "source": [
    "from sklearn.model_selection  import train_test_split\n",
    "X_train, X_test, y_train, y_test = train_test_split(X, y, test_size = 0.3, random_state = 82)"
   ]
  },
  {
   "cell_type": "code",
   "execution_count": 18,
   "metadata": {},
   "outputs": [
    {
     "output_type": "execute_result",
     "data": {
      "text/plain": "262      hahaha oh man please come to pomona i would lo...\n10352             yay!!! i'm so happy you got to meet her!\n1436     woke up to the sound of my neighbor getting a ...\n4908                             following'causeordered it\n800                       its my burfday and i'm all alone\nName: content, dtype: object"
     },
     "metadata": {},
     "execution_count": 18
    }
   ],
   "source": [
    "X_train.head()"
   ]
  },
  {
   "cell_type": "code",
   "execution_count": 19,
   "metadata": {},
   "outputs": [
    {
     "output_type": "execute_result",
     "data": {
      "text/plain": "262      happiness\n10352    happiness\n1436      surprise\n4908       sadness\n800        sadness\nName: emotion, dtype: object"
     },
     "metadata": {},
     "execution_count": 19
    }
   ],
   "source": [
    "y_train.head()"
   ]
  },
  {
   "cell_type": "code",
   "execution_count": 20,
   "metadata": {},
   "outputs": [
    {
     "output_type": "execute_result",
     "data": {
      "text/plain": "4092    waaah! masseuse is fully booked. no shoulder r...\n325              sorry, is only in spanish for the moment\n7432    is such a good big cousin as shes taking her l...\n8526    my computer is so slooowww this morning.i thin...\n6364    i'm bored... don't want to stay home tonight, ...\nName: content, dtype: object"
     },
     "metadata": {},
     "execution_count": 20
    }
   ],
   "source": [
    "X_test.head()"
   ]
  },
  {
   "cell_type": "code",
   "execution_count": 21,
   "metadata": {},
   "outputs": [
    {
     "output_type": "execute_result",
     "data": {
      "text/plain": "4092     surprise\n325       sadness\n7432    happiness\n8526      sadness\n6364      sadness\nName: emotion, dtype: object"
     },
     "metadata": {},
     "execution_count": 21
    }
   ],
   "source": [
    "y_test.head()\n"
   ]
  },
  {
   "cell_type": "code",
   "execution_count": 22,
   "metadata": {},
   "outputs": [],
   "source": [
    "from sklearn.feature_extraction.text import CountVectorizer\n",
    "vect = CountVectorizer(stop_words='english')"
   ]
  },
  {
   "cell_type": "code",
   "execution_count": 23,
   "metadata": {},
   "outputs": [
    {
     "output_type": "execute_result",
     "data": {
      "text/plain": "{'hahaha': 5460,\n 'oh': 8632,\n 'man': 7493,\n 'come': 2759,\n 'pomona': 9390,\n 'love': 7318,\n 'everyday': 4209,\n 'instead': 6267,\n 'like': 7129,\n 'year': 13750,\n 'yay': 13715,\n 'happy': 5554,\n 'got': 5227,\n 'meet': 7665,\n 'woke': 13498,\n 'sound': 11197,\n 'neighbor': 8270,\n 'getting': 5048,\n 'new': 8314,\n 'roof': 10234,\n 'following': 4676,\n 'causeordered': 2350,\n 'burfday': 2114,\n 'theyre': 12060,\n 'sappin': 10437,\n 'mah': 7451,\n 'sentry': 10624,\n 'errr': 4156,\n 'yea': 13730,\n 'power': 9459,\n 'home': 5862,\n 'right': 10146,\n 'thanks': 11990,\n 'gifford': 5066,\n 'lectures': 7038,\n 'page': 8893,\n 'great': 5301,\n 'interview': 6294,\n 'videos': 12994,\n 'favorite': 4426,\n 'youtube': 13860,\n 'im': 6152,\n 'tired': 12218,\n 'responsabilities': 10070,\n 'wish': 13448,\n 'kid': 6736,\n 'money': 7964,\n 'anymore': 971,\n 'really': 9869,\n 'waste': 13176,\n 'nice': 8342,\n 'win': 13417,\n 'dodgers': 3689,\n 'giants': 5061,\n 'alison': 779,\n 'miley': 7796,\n 'tell': 11923,\n 'shoutout': 10791,\n 'fan': 4385,\n 'playing': 9320,\n 'board': 1787,\n 'games': 4958,\n 'mosquito': 8037,\n 'truck': 12532,\n 'waking': 13110,\n 'saying': 10471,\n 'goodbye': 5185,\n 'tofor': 12302,\n 'yearshe': 13758,\n 'awesome': 1233,\n 'helping': 5718,\n 'fit': 4574,\n 'team': 11883,\n 'veritas': 12970,\n 'http': 5997,\n 'twitpic': 12661,\n 'com': 2750,\n '4wiqv': 318,\n 'awwww': 1267,\n 'looks': 7272,\n 'kittylittle': 6791,\n 'furry': 4911,\n 'balls': 1368,\n 'best': 1612,\n 'going': 5163,\n 'sleep': 10967,\n 'cuddle': 3134,\n 'turning': 12591,\n 'tricks': 12511,\n 'van': 12937,\n 'buren': 2113,\n '11': 41,\n 'days': 3317,\n 'till': 12185,\n 'county': 2999,\n 'ralyi': 9796,\n 'tak': 11796,\n '14': 63,\n 'took': 12369,\n 'god': 5148,\n 'bless': 1727,\n 'sexy': 10661,\n 'rahul': 9773,\n 'picture': 9226,\n 'ok': 8656,\n 'looking': 7270,\n 'forward': 4735,\n 'welcome': 13279,\n 'life': 7109,\n 'know': 6818,\n 'doesn': 3692,\n 'exist': 4275,\n '12': 49,\n 'ca': 2181,\n 'paniniii': 8950,\n 'sure': 11671,\n 'blog': 1748,\n 'today': 12264,\n 'check': 2466,\n 'friends': 4815,\n 'bet': 1617,\n 'ones': 8706,\n 'poor': 9402,\n 'babyyou': 1304,\n 'need': 8254,\n 'aloe': 816,\n 'nope': 8451,\n 'sorry': 11178,\n 'hints': 5802,\n 'killers': 6755,\n 'coming': 2778,\n 'td': 11871,\n 'banknoh': 1391,\n 'boston': 1874,\n '30pm': 183,\n 'tickets': 12154,\n 'sale': 10397,\n 'sat': 10446,\n 've': 12949,\n 'blah': 1705,\n 'blahing': 1706,\n 'yep': 13778,\n 'forgot': 4719,\n 'sorrybut': 11180,\n 'youre': 13854,\n 'deserve': 3475,\n 'strained': 11457,\n 'muscle': 8136,\n 'lower': 7339,\n 'amp': 874,\n 'hus': 6055,\n 'running': 10317,\n 'weekend': 13244,\n 'gangstarr': 4965,\n 'exgirl': 4268,\n 'girl': 5087,\n 'nas': 8219,\n 'mic': 7764,\n 'hold': 5841,\n 'listen': 7169,\n 'guess': 5381,\n 'dont': 3727,\n 'matter': 7585,\n 'sad': 10352,\n 'just': 6637,\n 'reminder': 10006,\n 'phone': 9180,\n 'recharge': 9899,\n 'toothbrush': 12387,\n 'sadface': 10363,\n 'boo': 1817,\n 'daddy': 3211,\n 'dental': 3448,\n 'bridge': 1976,\n 'tooth': 12385,\n 'table': 11774,\n 'uh': 12739,\n 'shiney': 10726,\n 'plastic': 9308,\n 'chew': 2508,\n 'sawwy': 10466,\n 'pauly': 9029,\n 'wallly': 13125,\n 'fucking': 4855,\n 'hell': 5700,\n 'x3': 13660,\n 'reply': 10037,\n 'cool': 2934,\n 'linux': 7159,\n 'damn': 3228,\n 'stephane': 11405,\n 'feel': 4453,\n 'work': 13552,\n 'aw': 1218,\n 'toronto': 12398,\n 'def': 3398,\n 'ya': 13692,\n 'tonight': 12332,\n 'rn': 10171,\n 'photo': 9189,\n 'didn': 3546,\n 'yesterdaylol': 13799,\n 'doing': 3707,\n 'don': 3718,\n 'forget': 4714,\n 'hi': 5758,\n 'jakki': 6435,\n 'hug': 6009,\n 'want': 13136,\n 'super': 11645,\n 'prettyand': 9516,\n 'cig': 2598,\n 'friend': 4812,\n 'massive': 7565,\n 'beatles': 1503,\n 'wasn': 13171,\n 'impressed': 6175,\n 'hmm': 5822,\n 'disappointed': 3608,\n 'servings': 10647,\n 'able': 538,\n 'enjoy': 4094,\n 'stomach': 11439,\n 'fullwishing': 4870,\n 'company': 2800,\n 'help': 5714,\n 'ireland': 6334,\n 'mom': 7938,\n 'left': 7043,\n 'feeling': 4456,\n 'pretty': 9515,\n 'poo': 9396,\n 'feelin': 4455,\n '2day': 151,\n 'haha': 5453,\n 'hope': 5918,\n 'laugh': 6982,\n 'laughter': 6988,\n 'medicine': 7652,\n 'omg': 8689,\n 'yesssss': 13791,\n 'danny': 3257,\n 'song': 11139,\n 'liam': 7092,\n 'peed': 9083,\n 'potty': 9447,\n 'good': 5184,\n 'morning': 8014,\n 'tweeties': 12625,\n 'rested': 10077,\n 'richmond': 10130,\n 'ready': 9850,\n 'hit': 5811,\n 'beach': 1484,\n 'bihday': 1655,\n 'weathers': 13220,\n 'thursday': 12144,\n 'friday': 4805,\n 'il': 6137,\n 'scream': 10531,\n 'day': 3297,\n 'keiron': 6699,\n 'iï': 6411,\n '½m': 13934,\n 'ooh': 8723,\n 'soon': 11148,\n 'dung': 3881,\n 'mice': 7765,\n 'goodnight': 5195,\n 'mothers': 8040,\n 'visit': 13021,\n 'profile': 9580,\n 'silly': 10875,\n 'offspring': 8626,\n 'funny': 4900,\n 'picks': 9219,\n 'nose': 8462,\n 'excited': 4252,\n 'enfest': 4081,\n 'yaaaay': 13696,\n 'finished': 4550,\n 'recording': 9918,\n 'improvisation': 6183,\n 'second': 10579,\n 'instrument': 6270,\n 'latest': 6978,\n 'podcast': 9357,\n 'nearly': 8248,\n 'mixing': 7888,\n 'time': 12188,\n 'gosh': 5224,\n 'close': 2668,\n 'finishing': 4554,\n 'wait': 13097,\n 'somewhat': 11134,\n 'town': 12428,\n 'visitng': 13025,\n 'uncle': 12762,\n 'boyet': 1905,\n 'famm': 4381,\n 'noice': 8421,\n 'realised': 9855,\n 'exams': 4245,\n 'weeksforgot': 13262,\n 'weeks': 13261,\n 'unit': 12792,\n 'term': 11943,\n 'thing': 12068,\n 'aww': 1254,\n 'thank': 11986,\n 'thinking': 12079,\n 'caring': 2294,\n 'ive': 6401,\n 'walked': 13116,\n '05': 6,\n 'kilometres': 6759,\n 'ass': 1112,\n 'kicked': 6732,\n 'tripoly': 12517,\n 'loli': 7234,\n 'bad': 1323,\n 'cards': 2285,\n 'suck': 11558,\n 'scared': 10480,\n 'daleks': 3222,\n 'dw': 3895,\n 'exhibition': 4273,\n 'cardiff': 2283,\n 'boyfriend': 1907,\n 'evening': 4193,\n 'shift': 10718,\n 'tomorrow': 12317,\n 'working': 13570,\n 'arrested': 1074,\n 'hotel': 5959,\n 'cont': 2897,\n 'bastardized': 1437,\n 'version': 12976,\n 'french': 4788,\n 'fun': 4873,\n 'believe': 1571,\n 'wassup': 13175,\n 'beautiful': 1508,\n 'follow': 4664,\n 'peep': 9087,\n 'singles': 10895,\n 'www': 13644,\n 'myspace': 8167,\n 'ipsohot': 6329,\n 'wat': 13180,\n 'video': 12993,\n 'woo': 13523,\n 'subject': 11542,\n 'month': 7983,\n 'use': 12882,\n 'sparklers': 11233,\n 'yes': 13784,\n 'bs': 2051,\n 'men': 7711,\n 'lie': 7102,\n 'll': 7196,\n 'marry': 7551,\n '33hus': 194,\n 'baby': 1296,\n 'chinese': 2538,\n 'lunch': 7374,\n 'buffet': 2079,\n '50': 327,\n 'add': 609,\n 'soda': 11099,\n '25': 131,\n 'noticing': 8478,\n 'health': 5651,\n 'inspection': 6253,\n 'score': 10515,\n '81': 472,\n 'walk': 13115,\n 'bag': 1334,\n 'priceless': 9527,\n 'seen': 10591,\n 'game': 4953,\n 'website': 13229,\n 'awesomness': 1240,\n 'msn': 8089,\n 'sotomayor': 11191,\n 'big': 1650,\n 'talking': 11809,\n 'making': 7475,\n 'law': 6998,\n 'branches': 1931,\n 'car': 2274,\n 'haven': 5604,\n 'luck': 7354,\n 'draining': 3779,\n 'iphone': 6324,\n 'battery': 1454,\n 'half': 5503,\n 'single': 10894,\n 'sucks': 11564,\n 'months': 7986,\n 'old': 8670,\n 'huge': 6011,\n 'fail': 4344,\n 'apple': 1003,\n 'pa': 8877,\n 'called': 2214,\n 'youlmao': 13846,\n 'stop': 11441,\n 'relying': 9992,\n 'family': 4380,\n 'say': 10467,\n 'field': 4502,\n 'ribbons': 10124,\n 'bali': 1362,\n 'gloomy': 5126,\n 'la': 6886,\n 'sunbut': 11620,\n 'mtv': 8095,\n 'does': 3691,\n 'allow': 803,\n 'vote': 13062,\n 'rain': 9778,\n 'drops': 3831,\n 'falling': 4371,\n 'head': 5633,\n 'watched': 13182,\n 'sex': 10659,\n 'city': 2614,\n 'season': 10566,\n 'drank': 3784,\n 'little': 7180,\n 'wine': 13430,\n 'date': 3281,\n 'ended': 4070,\n 'kiss': 6781,\n 'used': 12883,\n 'thisnight': 12083,\n 'night': 8364,\n 'oin': 8653,\n 'cynthia': 3197,\n 'dinner': 3588,\n 'cute': 3172,\n 'place': 9284,\n 'sick': 10837,\n 'twitter': 12664,\n 'depressing': 3467,\n 'tour': 12416,\n 'seriously': 10637,\n 'line': 7150,\n 'sayin': 10470,\n 'mango': 7509,\n 'medley': 7656,\n 'yummy': 13885,\n 'ice': 6087,\n 'cream': 3057,\n 'emilie': 4043,\n 'hour': 5963,\n 'talk': 11806,\n 'later': 6973,\n 'kill': 6751,\n 'sickn': 10846,\n 'everybody': 4208,\n 'needs': 8260,\n 'thier': 12063,\n 'ownguns': 8864,\n 'roses': 10250,\n 'blip': 1735,\n 'fm': 4645,\n '5z5kz': 372,\n 'tom': 12310,\n 'wanna': 13132,\n 'play': 9313,\n 'summer': 11596,\n 'glau': 5117,\n 'appear': 997,\n 'dollhouse': 3714,\n 'tinyurl': 12211,\n 'mnrezc': 7905,\n 'won': 13513,\n 'renew': 10018,\n 'tscc': 12552,\n 'finally': 4537,\n 'bed': 1526,\n 'hoo': 5902,\n 'gotta': 5234,\n '5am': 343,\n 'lots': 7307,\n 'things': 12072,\n 'ugh': 12729,\n 'soooo': 11157,\n 'trying': 12549,\n 'make': 7467,\n '10': 20,\n 'train': 12458,\n 'sunday': 11622,\n 'office': 8615,\n 'star': 11365,\n 'wars': 13162,\n 'sunbathing': 11614,\n 'bombed': 1806,\n 'church': 2587,\n 'missed': 7860,\n 'awww': 1261,\n 'thts': 12136,\n 'hun': 6039,\n 'having': 5607,\n 'worst': 13599,\n '1000': 22,\n 'settled': 10655,\n '100': 21,\n 'learning': 7025,\n 'guitar': 5393,\n 'quickly': 9729,\n 'naturally': 8231,\n '20': 104,\n 'mins': 7829,\n 'bej': 1563,\n 'semanggi': 10608,\n 'traffic': 12447,\n 'siggghh': 10854,\n 'scene': 10487,\n 'end': 4068,\n 'ties': 12167,\n 'comic': 2774,\n 'book': 1827,\n 'movie': 8061,\n 'think': 12075,\n 'gold': 5168,\n 'diggerhahahaha': 3574,\n 'chillin': 2530,\n 'christina': 2577,\n 'diana': 3531,\n 'jeje': 6492,\n 'sm': 11011,\n 'free': 4774,\n 'cares': 2291,\n 'jaja': 6432,\n 'weather': 13219,\n 'stuck': 11508,\n 'doors': 3738,\n 'sunny': 11627,\n 'entered': 4111,\n 'sub': 11538,\n 'basement': 1422,\n 'raining': 9784,\n 'apparently': 993,\n 'looong': 7275,\n 'seeing': 10588,\n 'sweater': 11717,\n 'sandwich': 10424,\n 'fantastic': 4393,\n 'boss': 1873,\n 'texted': 11971,\n 'lt': 7347,\n 'asked': 1103,\n 'suit': 11588,\n 'heading': 5640,\n 'looked': 7267,\n 'whore': 13373,\n 'apples': 1004,\n 'total': 12405,\n 'bummer': 2101,\n 'lost': 7301,\n 'followers': 4669,\n 'celebrating': 2373,\n 'mother': 8039,\n 'pie': 9231,\n 'mmmm': 7898,\n 'shower': 10795,\n 'hate': 5590,\n 'closing': 2675,\n 'eek': 3980,\n 'smiles': 11029,\n 'aloha': 817,\n 'kitchen': 6784,\n 'yum': 13881,\n 'came': 2220,\n 'hanging': 5534,\n 'cocktails': 2708,\n 'drunk': 3846,\n 'woken': 13499,\n 'neighbour': 8273,\n 'kids': 6744,\n 'screaming': 10534,\n 'garden': 4973,\n '8am': 478,\n 'benevolent': 1598,\n 'mood': 7993,\n 'warned': 13155,\n 'bit': 1681,\n 'ly': 7393,\n '3w9w1noooo': 228,\n 'goes': 5158,\n 'orlando': 8788,\n 'omgi': 8692,\n 'gonna': 5183,\n 'sunburn': 11616,\n 'huingjack': 6024,\n 'whitehall': 13357,\n 'mmmmm': 7899,\n 'enjoying': 4097,\n 'news': 8323,\n 'android': 905,\n 'based': 1421,\n 'devices': 3506,\n 'especially': 4162,\n 'mobile': 7910,\n 'giddy': 5065,\n 'stas': 11377,\n 'saving': 10461,\n 'tmobile': 12242,\n 'hey': 5746,\n 'hunniehow': 6046,\n 'miss': 7858,\n 'talkin': 11808,\n 'ty': 12703,\n 'job': 6541,\n 'makeup': 7473,\n 'gots': 5233,\n 'fineand': 4545,\n 'shot': 10781,\n 'beneath': 1595,\n 'cancelled': 2240,\n 'wont': 13522,\n 'til': 12181,\n 'cornerstonewho': 2961,\n 'goign': 5161,\n 'miles': 7795,\n 'youi': 13842,\n 'essex': 4169,\n 'plenty': 9338,\n 'warning': 13156,\n 'arrive': 1075,\n 'beers': 1544,\n 'c8nlzh': 2179,\n 'list': 7167,\n 'park': 8983,\n 'closures': 2677,\n 'calaveras': 2203,\n 'trees': 12490,\n 'sp': 11217,\n 'headed': 5639,\n 'glad': 5110,\n 'visiting': 13024,\n 'late': 6968,\n 'daaay': 3206,\n 'visteon': 13029,\n 'belfast': 1568,\n 'years': 13757,\n 'salary': 10396,\n 'paid': 8902,\n 'shows': 10805,\n 'happens': 5547,\n 'stand': 11358,\n 'miracle': 7840,\n 'using': 12893,\n 'tweet': 12613,\n 'warwick': 13163,\n 'castle': 2330,\n 'snurl': 11079,\n 'izzau': 6408,\n 'amazing': 845,\n 'devon': 3511,\n 'week': 13240,\n 'internet': 6285,\n 'updates': 12826,\n 'shit': 10738,\n 'steve': 11411,\n 'send': 10613,\n 'pictures': 9228,\n 'yard': 13709,\n 'ewww': 4234,\n 'printed': 9541,\n 'badge': 1327,\n 'thingie': 12070,\n 'eww': 4233,\n 'ugly': 12738,\n 'stressin': 11483,\n 'core': 2956,\n 'supposed': 11666,\n 'cleaning': 2644,\n 'room': 10236,\n 'feels': 4458,\n 'crap': 3043,\n 'australia': 1197,\n 'gets': 5045,\n '4th': 294,\n 'figure': 4513,\n 'tweeter': 12620,\n 'club': 2685,\n 'sho': 10750,\n 'playedfriendly': 9316,\n 'gm': 5134,\n 'bulgaria': 2090,\n 'pt': 9634,\n 'offensively': 8605,\n 'timing': 12204,\n 'israel': 6351,\n 'sun': 11609,\n 'cut': 3170,\n 'players': 9317,\n 'phl': 9177,\n 'delays': 3419,\n 'flight': 4613,\n 'schedule': 10494,\n 'bummed': 2100,\n 'missing': 7867,\n 'jay': 6470,\n 'leno': 7065,\n 'chillen': 2527,\n 'csla': 3124,\n 'waiting': 13100,\n 'sta': 11336,\n 'watchin': 13184,\n 'pacquiao': 8889,\n 'rerun': 10052,\n 'monday': 7957,\n 'tried': 12512,\n 'water': 13188,\n 'plants': 9305,\n 'early': 3919,\n 'jammies': 6444,\n 'caught': 2347,\n 'neighbors': 8272,\n 'hair': 5482,\n 'spending': 11266,\n 'tummy': 12579,\n 'nah': 8188,\n 'minehad': 7820,\n 'fingers': 4548,\n 'hahaah': 5457,\n 'crys': 3119,\n 'blowing': 1768,\n 'fuses': 4912,\n 'typical': 12710,\n 'feverdont': 4484,\n 'heaps': 5655,\n 'uses': 12889,\n 'logic': 7225,\n 'admit': 625,\n 'did': 3542,\n 'mac': 7412,\n 'mcdonald': 7615,\n 'promoting': 9601,\n 'mccafe': 7613,\n 'similar': 10880,\n 'starbucks': 11366,\n 'mcsmoothies': 7623,\n 'jamba': 6439,\n 'juice': 6617,\n 'becuz': 1525,\n 'honest': 5888,\n 'lets': 7076,\n 'look': 7266,\n 'ending': 4072,\n 'smile': 11027,\n 'face': 4328,\n 'mums': 8126,\n 'nelly': 8278,\n 'shout': 10789,\n 'outhttp': 8816,\n 'skitch': 10947,\n 'tac': 11779,\n 'thought': 12111,\n 'simple': 10882,\n 'onei': 8705,\n 'hilarious': 5782,\n 'thanx': 12007,\n 'answer': 949,\n 'private': 9547,\n 'mail': 7454,\n 'sooo': 11155,\n 'birmingham': 1678,\n 'hear': 5656,\n 'abt': 549,\n 'firefox': 4564,\n 'crashing': 3047,\n 'pw': 9686,\n 'wrong': 13632,\n 'signing': 10864,\n 'ur': 12862,\n 'children': 2519,\n 'aicle': 717,\n 'neil': 8276,\n 'gaiman': 4941,\n 'tease': 11890,\n 'bea': 1482,\n 'way': 13200,\n '21': 121,\n 'olds': 8673,\n 'dreaded': 3792,\n 'dmv': 3675,\n 'traveling': 12478,\n 'grandpa': 5282,\n 'hospital': 5952,\n 'road': 10173,\n 'block': 1741,\n 'cross': 3090,\n 'wow': 13606,\n 'bookmarks': 1836,\n 'spent': 11267,\n 'organizing': 8781,\n 'blonding': 1761,\n 'slowly': 11003,\n 'surely': 11674,\n 'wana': 13129,\n 'scratch': 10527,\n 'allowed': 805,\n 'twitterverse': 12687,\n 'keeping': 6696,\n 'enteained': 4107,\n 'try': 12546,\n 'restos': 10082,\n 'fuunnlet': 4916,\n 'downtown': 3767,\n 'dead': 3352,\n 'plus': 9349,\n 'kinda': 6765,\n 'imagine': 6159,\n 'reactions': 9844,\n 'twitterfollow': 12669,\n 'tweets': 12630,\n 'exploring': 4298,\n 'xd': 13669,\n 'vacation': 12922,\n 'cleaned': 2640,\n 'bathrooms': 1448,\n 'afternoon': 660,\n 'ahead': 701,\n 'lol': 7230,\n 'attention': 1167,\n 'spanish': 11228,\n 'min': 7813,\n 'xx': 13683,\n 'chelsee': 2498,\n 'amiera': 869,\n 'ufc': 12725,\n 'gt': 5374,\n 'tooo': 12374,\n 'strek': 11477,\n 'nqud': 8517,\n 'hu': 5998,\n 'finger': 4547,\n 'blues': 1775,\n 'sadly': 10371,\n 'streamline': 11472,\n 'ii': 6127,\n 'sold': 11113,\n 'trunk': 12539,\n 'available': 1208,\n 'size': 10922,\n 'halfway': 5504,\n 'telling': 11924,\n 'cos': 2972,\n 'replies': 10036,\n 'funnn': 4897,\n 'whoopi': 13368,\n 'chuck': 2582,\n 'woolery': 13533,\n 'watching': 13185,\n 'supernatural': 11650,\n 'exciting': 4257,\n 'ouch': 8803,\n 'wishes': 13450,\n 'teased': 11891,\n '70s': 447,\n 'travel': 12476,\n 'charlenedianetravels': 2440,\n 'blogspot': 1757,\n 'filling': 4523,\n 'entries': 4119,\n 'staing': 11349,\n 'real': 9853,\n 'hard': 5563,\n 'hairstylist': 5494,\n 'salon': 10400,\n 'newstime': 8328,\n 'incredibly': 6201,\n 'decision': 3382,\n 'cakes': 2199,\n 'youummm': 13864,\n 'tks': 12237,\n 'phrase': 9203,\n 'doubt': 3751,\n 'mo': 7907,\n 'williams': 13411,\n 'streak': 11468,\n 'okay': 8658,\n 'btw': 2055,\n 'brothers': 2031,\n 'cold': 2723,\n 'outsidetoday': 8824,\n 'exam': 4241,\n 'shooting': 10768,\n 'nest': 8295,\n 'maybe': 7598,\n 'hella': 5701,\n 'disneyland': 3645,\n 'stanight': 11364,\n 'people': 9116,\n 'xxx': 13684,\n 'justwatched': 6644,\n 'premier': 9494,\n 'jonkate': 6580,\n 'andi': 898,\n 'pull': 9649,\n 'let': 7074,\n 'knee': 6804,\n 'surgery': 11679,\n 'david': 3289,\n 'talented': 11804,\n 'course': 3005,\n '516': 332,\n 'hits': 5812,\n 'guinea': 5391,\n 'pig': 9237,\n 'webshots': 13228,\n 'promote': 9600,\n 'quoted': 9746,\n 'boys': 1910,\n 'steal': 11397,\n 'kisses': 6782,\n 'ben': 1591,\n 'harper': 5575,\n 'comes': 2767,\n 'ipod': 6327,\n 'beat': 1500,\n 'boxing': 1902,\n 'beginning': 1554,\n 'food': 4688,\n 'desse': 3491,\n 'frozen': 4838,\n 'grand': 5276,\n 'marnier': 7545,\n 'souffle': 11192,\n 'eat': 3941,\n 'bar': 1399,\n 'wore': 13551,\n 'black': 1697,\n 'rats': 9821,\n 'flowy': 4631,\n 'shi': 10716,\n 'dozen': 3769,\n 'mixed': 7886,\n 'oystsers': 8873,\n 'seafood': 10557,\n 'platter': 9311,\n 'death': 3365,\n 'chocolate': 2555,\n 'cavs': 2353,\n 'crush': 3106,\n 'magic': 7445,\n 'noh': 8418,\n 'realize': 9858,\n 'dude': 3866,\n 'ivy': 6402,\n 'decided': 3380,\n 'wants': 13141,\n 'boat': 1792,\n 'guys': 5420,\n 'pm': 9351,\n 'breaking': 1953,\n 'tweeted': 12618,\n 'hopewelcome': 5926,\n 'bailey': 1348,\n 'create': 3058,\n 'itunes': 6392,\n 'acct': 573,\n 'longer': 7258,\n 'redeem': 9928,\n 'kris': 6859,\n 'allen': 790,\n 'album': 754,\n 'note': 8464,\n 'said': 10388,\n 'canceled': 2238,\n 'terrell': 11946,\n 'texas': 11967,\n 'district': 3655,\n 'council': 2991,\n 'seat': 10569,\n 'hello': 5708,\n 'emm': 4046,\n 'gee': 5014,\n 'quebec': 9717,\n '16': 77,\n 'scrape': 10526,\n 'oven': 8837,\n 'blerg': 1726,\n 'gift': 5067,\n 'shh': 10713,\n 'slideshow': 10989,\n 'ori': 8783,\n 'ride': 10138,\n 'woohooo': 13531,\n 'knew': 6809,\n 'eh': 4001,\n 'alright': 828,\n 'near': 8244,\n 'quality': 9713,\n ...}"
     },
     "metadata": {},
     "execution_count": 23
    }
   ],
   "source": [
    "vect.fit(X_train)\n",
    "vect.vocabulary_"
   ]
  },
  {
   "cell_type": "code",
   "execution_count": 24,
   "metadata": {},
   "outputs": [],
   "source": [
    "X_train_transformed = vect.transform(X_train)\n",
    "X_test_transformed =vect.transform(X_test)"
   ]
  },
  {
   "cell_type": "code",
   "execution_count": 25,
   "metadata": {
    "tags": []
   },
   "outputs": [
    {
     "output_type": "stream",
     "name": "stdout",
     "text": "<class 'scipy.sparse.csr.csr_matrix'>\n  (0, 2759)\t1\n  (0, 4209)\t1\n  (0, 5460)\t1\n  (0, 6267)\t1\n  (0, 7129)\t1\n  (0, 7318)\t1\n  (0, 7493)\t1\n  (0, 8632)\t1\n  (0, 9390)\t1\n  (0, 13750)\t1\n  (1, 5227)\t1\n  (1, 5554)\t1\n  (1, 7665)\t1\n  (1, 13715)\t1\n  (2, 5048)\t1\n  (2, 8270)\t1\n  (2, 8314)\t1\n  (2, 10234)\t1\n  (2, 11197)\t1\n  (2, 13498)\t1\n  (3, 2350)\t1\n  (3, 4676)\t1\n  (4, 2114)\t1\n  (5, 4156)\t1\n  (5, 5862)\t1\n  :\t:\n  (8867, 3816)\t1\n  (8867, 4537)\t1\n  (8867, 5163)\t1\n  (8867, 6152)\t1\n  (8867, 7024)\t1\n  (8867, 7193)\t1\n  (8867, 7945)\t1\n  (8867, 9607)\t1\n  (8867, 9621)\t1\n  (8867, 10301)\t1\n  (8867, 12657)\t1\n  (8868, 874)\t1\n  (8868, 4039)\t1\n  (8868, 4873)\t1\n  (8868, 5192)\t1\n  (8868, 8678)\t1\n  (8868, 9150)\t1\n  (8868, 9212)\t1\n  (8868, 10005)\t1\n  (8868, 10464)\t1\n  (8868, 11148)\t1\n  (8868, 12089)\t1\n  (8868, 12862)\t1\n  (8868, 13669)\t1\n  (8868, 13795)\t1\n"
    }
   ],
   "source": [
    "print(type(X_train_transformed))\n",
    "print(X_train_transformed)"
   ]
  },
  {
   "cell_type": "code",
   "execution_count": 26,
   "metadata": {},
   "outputs": [
    {
     "output_type": "execute_result",
     "data": {
      "text/plain": "SVC(random_state=1)"
     },
     "metadata": {},
     "execution_count": 26
    }
   ],
   "source": [
    "from sklearn.svm import SVC\n",
    "svcclassifier = SVC(kernel = 'rbf', random_state = 1)\n",
    "svcclassifier.fit(X_train_transformed, y_train)"
   ]
  },
  {
   "cell_type": "code",
   "execution_count": 27,
   "metadata": {
    "tags": []
   },
   "outputs": [
    {
     "output_type": "stream",
     "name": "stdout",
     "text": "['sadness' 'sadness' 'happiness' ... 'happiness' 'happiness' 'happiness']\n"
    }
   ],
   "source": [
    "y_pred = svcclassifier.predict(X_test_transformed)\n",
    "print(y_pred)"
   ]
  },
  {
   "cell_type": "code",
   "execution_count": 28,
   "metadata": {
    "tags": []
   },
   "outputs": [
    {
     "output_type": "stream",
     "name": "stdout",
     "text": "0.6349289847448711\n"
    }
   ],
   "source": [
    "from sklearn import metrics\n",
    "print(metrics.accuracy_score(y_test,y_pred))"
   ]
  },
  {
   "cell_type": "code",
   "execution_count": null,
   "metadata": {},
   "outputs": [],
   "source": []
  }
 ],
 "metadata": {
  "kernelspec": {
   "display_name": "Python 3",
   "language": "python",
   "name": "python3"
  },
  "language_info": {
   "codemirror_mode": {
    "name": "ipython",
    "version": 3
   },
   "file_extension": ".py",
   "mimetype": "text/x-python",
   "name": "python",
   "nbconvert_exporter": "python",
   "pygments_lexer": "ipython3",
   "version": "3.8.3-final"
  }
 },
 "nbformat": 4,
 "nbformat_minor": 4
}