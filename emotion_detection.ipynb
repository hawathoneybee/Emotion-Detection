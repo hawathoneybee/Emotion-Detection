{
 "cells": [
  {
   "cell_type": "code",
   "execution_count": 1,
   "metadata": {},
   "outputs": [],
   "source": [
    "import pandas as pd\n",
    "#import numpy as np"
   ]
  },
  {
   "cell_type": "code",
   "execution_count": 2,
   "metadata": {},
   "outputs": [
    {
     "output_type": "execute_result",
     "data": {
      "text/plain": "     tweet_id     emotion       author  \\\n0  1956967341       empty   xoshayzers   \n1  1956967666     sadness    wannamama   \n2  1956967696     sadness    coolfunky   \n3  1956967789  enthusiasm  czareaquino   \n4  1956968416     neutral    xkilljoyx   \n\n                                             content  \n0  @tiffanylue i know  i was listenin to bad habi...  \n1  Layin n bed with a headache  ughhhh...waitin o...  \n2                Funeral ceremony...gloomy friday...  \n3               wants to hang out with friends SOON!  \n4  @dannycastillo We want to trade with someone w...  ",
      "text/html": "<div>\n<style scoped>\n    .dataframe tbody tr th:only-of-type {\n        vertical-align: middle;\n    }\n\n    .dataframe tbody tr th {\n        vertical-align: top;\n    }\n\n    .dataframe thead th {\n        text-align: right;\n    }\n</style>\n<table border=\"1\" class=\"dataframe\">\n  <thead>\n    <tr style=\"text-align: right;\">\n      <th></th>\n      <th>tweet_id</th>\n      <th>emotion</th>\n      <th>author</th>\n      <th>content</th>\n    </tr>\n  </thead>\n  <tbody>\n    <tr>\n      <th>0</th>\n      <td>1956967341</td>\n      <td>empty</td>\n      <td>xoshayzers</td>\n      <td>@tiffanylue i know  i was listenin to bad habi...</td>\n    </tr>\n    <tr>\n      <th>1</th>\n      <td>1956967666</td>\n      <td>sadness</td>\n      <td>wannamama</td>\n      <td>Layin n bed with a headache  ughhhh...waitin o...</td>\n    </tr>\n    <tr>\n      <th>2</th>\n      <td>1956967696</td>\n      <td>sadness</td>\n      <td>coolfunky</td>\n      <td>Funeral ceremony...gloomy friday...</td>\n    </tr>\n    <tr>\n      <th>3</th>\n      <td>1956967789</td>\n      <td>enthusiasm</td>\n      <td>czareaquino</td>\n      <td>wants to hang out with friends SOON!</td>\n    </tr>\n    <tr>\n      <th>4</th>\n      <td>1956968416</td>\n      <td>neutral</td>\n      <td>xkilljoyx</td>\n      <td>@dannycastillo We want to trade with someone w...</td>\n    </tr>\n  </tbody>\n</table>\n</div>"
     },
     "metadata": {},
     "execution_count": 2
    }
   ],
   "source": [
    "#Read the DataFrame\n",
    "df=pd.read_csv('text_emotion.csv')\n",
    "df.head()"
   ]
  },
  {
   "cell_type": "code",
   "execution_count": 3,
   "metadata": {},
   "outputs": [
    {
     "output_type": "execute_result",
     "data": {
      "text/plain": "      emotion                                            content\n0       empty  @tiffanylue i know  i was listenin to bad habi...\n1     sadness  Layin n bed with a headache  ughhhh...waitin o...\n2     sadness                Funeral ceremony...gloomy friday...\n3  enthusiasm               wants to hang out with friends SOON!\n4     neutral  @dannycastillo We want to trade with someone w...",
      "text/html": "<div>\n<style scoped>\n    .dataframe tbody tr th:only-of-type {\n        vertical-align: middle;\n    }\n\n    .dataframe tbody tr th {\n        vertical-align: top;\n    }\n\n    .dataframe thead th {\n        text-align: right;\n    }\n</style>\n<table border=\"1\" class=\"dataframe\">\n  <thead>\n    <tr style=\"text-align: right;\">\n      <th></th>\n      <th>emotion</th>\n      <th>content</th>\n    </tr>\n  </thead>\n  <tbody>\n    <tr>\n      <th>0</th>\n      <td>empty</td>\n      <td>@tiffanylue i know  i was listenin to bad habi...</td>\n    </tr>\n    <tr>\n      <th>1</th>\n      <td>sadness</td>\n      <td>Layin n bed with a headache  ughhhh...waitin o...</td>\n    </tr>\n    <tr>\n      <th>2</th>\n      <td>sadness</td>\n      <td>Funeral ceremony...gloomy friday...</td>\n    </tr>\n    <tr>\n      <th>3</th>\n      <td>enthusiasm</td>\n      <td>wants to hang out with friends SOON!</td>\n    </tr>\n    <tr>\n      <th>4</th>\n      <td>neutral</td>\n      <td>@dannycastillo We want to trade with someone w...</td>\n    </tr>\n  </tbody>\n</table>\n</div>"
     },
     "metadata": {},
     "execution_count": 3
    }
   ],
   "source": [
    "#remove unwanted columns\n",
    "df=df.drop(['tweet_id','author'], axis =1)\n",
    "df.head()"
   ]
  },
  {
   "cell_type": "code",
   "execution_count": 4,
   "metadata": {},
   "outputs": [
    {
     "output_type": "execute_result",
     "data": {
      "text/plain": "      emotion                                            content\n0       empty  @tiffanylue i know  i was listenin to bad habi...\n1     sadness  layin n bed with a headache  ughhhh...waitin o...\n2     sadness                funeral ceremony...gloomy friday...\n3  enthusiasm               wants to hang out with friends soon!\n4     neutral  @dannycastillo we want to trade with someone w...",
      "text/html": "<div>\n<style scoped>\n    .dataframe tbody tr th:only-of-type {\n        vertical-align: middle;\n    }\n\n    .dataframe tbody tr th {\n        vertical-align: top;\n    }\n\n    .dataframe thead th {\n        text-align: right;\n    }\n</style>\n<table border=\"1\" class=\"dataframe\">\n  <thead>\n    <tr style=\"text-align: right;\">\n      <th></th>\n      <th>emotion</th>\n      <th>content</th>\n    </tr>\n  </thead>\n  <tbody>\n    <tr>\n      <th>0</th>\n      <td>empty</td>\n      <td>@tiffanylue i know  i was listenin to bad habi...</td>\n    </tr>\n    <tr>\n      <th>1</th>\n      <td>sadness</td>\n      <td>layin n bed with a headache  ughhhh...waitin o...</td>\n    </tr>\n    <tr>\n      <th>2</th>\n      <td>sadness</td>\n      <td>funeral ceremony...gloomy friday...</td>\n    </tr>\n    <tr>\n      <th>3</th>\n      <td>enthusiasm</td>\n      <td>wants to hang out with friends soon!</td>\n    </tr>\n    <tr>\n      <th>4</th>\n      <td>neutral</td>\n      <td>@dannycastillo we want to trade with someone w...</td>\n    </tr>\n  </tbody>\n</table>\n</div>"
     },
     "metadata": {},
     "execution_count": 4
    }
   ],
   "source": [
    "#convert content to lowercase\n",
    "df.content=df.content.str.lower()\n",
    "df.head()"
   ]
  },
  {
   "cell_type": "code",
   "execution_count": 5,
   "metadata": {},
   "outputs": [
    {
     "output_type": "execute_result",
     "data": {
      "text/plain": "      emotion                                            content\n0       empty  @tiffanylue i know  i was listenin to bad habi...\n1     sadness  layin n bed with a headache  ughhhh...waitin o...\n2     sadness                funeral ceremony...gloomy friday...\n3  enthusiasm               wants to hang out with friends soon!\n4     neutral  @dannycastillo we want to trade with someone w...",
      "text/html": "<div>\n<style scoped>\n    .dataframe tbody tr th:only-of-type {\n        vertical-align: middle;\n    }\n\n    .dataframe tbody tr th {\n        vertical-align: top;\n    }\n\n    .dataframe thead th {\n        text-align: right;\n    }\n</style>\n<table border=\"1\" class=\"dataframe\">\n  <thead>\n    <tr style=\"text-align: right;\">\n      <th></th>\n      <th>emotion</th>\n      <th>content</th>\n    </tr>\n  </thead>\n  <tbody>\n    <tr>\n      <th>0</th>\n      <td>empty</td>\n      <td>@tiffanylue i know  i was listenin to bad habi...</td>\n    </tr>\n    <tr>\n      <th>1</th>\n      <td>sadness</td>\n      <td>layin n bed with a headache  ughhhh...waitin o...</td>\n    </tr>\n    <tr>\n      <th>2</th>\n      <td>sadness</td>\n      <td>funeral ceremony...gloomy friday...</td>\n    </tr>\n    <tr>\n      <th>3</th>\n      <td>enthusiasm</td>\n      <td>wants to hang out with friends soon!</td>\n    </tr>\n    <tr>\n      <th>4</th>\n      <td>neutral</td>\n      <td>@dannycastillo we want to trade with someone w...</td>\n    </tr>\n  </tbody>\n</table>\n</div>"
     },
     "metadata": {},
     "execution_count": 5
    }
   ],
   "source": [
    "#replace blank space\n",
    "df.content=df.content.str.replace(\"rt\",\"\")\n",
    "df.head()"
   ]
  },
  {
   "cell_type": "code",
   "execution_count": 6,
   "metadata": {},
   "outputs": [
    {
     "output_type": "execute_result",
     "data": {
      "text/plain": "      emotion                                            content\n0       empty   i know  i was listenin to bad habit earlier a...\n1     sadness  layin n bed with a headache  ughhhh...waitin o...\n2     sadness                funeral ceremony...gloomy friday...\n3  enthusiasm               wants to hang out with friends soon!\n4     neutral   we want to trade with someone who has houston...",
      "text/html": "<div>\n<style scoped>\n    .dataframe tbody tr th:only-of-type {\n        vertical-align: middle;\n    }\n\n    .dataframe tbody tr th {\n        vertical-align: top;\n    }\n\n    .dataframe thead th {\n        text-align: right;\n    }\n</style>\n<table border=\"1\" class=\"dataframe\">\n  <thead>\n    <tr style=\"text-align: right;\">\n      <th></th>\n      <th>emotion</th>\n      <th>content</th>\n    </tr>\n  </thead>\n  <tbody>\n    <tr>\n      <th>0</th>\n      <td>empty</td>\n      <td>i know  i was listenin to bad habit earlier a...</td>\n    </tr>\n    <tr>\n      <th>1</th>\n      <td>sadness</td>\n      <td>layin n bed with a headache  ughhhh...waitin o...</td>\n    </tr>\n    <tr>\n      <th>2</th>\n      <td>sadness</td>\n      <td>funeral ceremony...gloomy friday...</td>\n    </tr>\n    <tr>\n      <th>3</th>\n      <td>enthusiasm</td>\n      <td>wants to hang out with friends soon!</td>\n    </tr>\n    <tr>\n      <th>4</th>\n      <td>neutral</td>\n      <td>we want to trade with someone who has houston...</td>\n    </tr>\n  </tbody>\n</table>\n</div>"
     },
     "metadata": {},
     "execution_count": 6
    }
   ],
   "source": [
    "#replace @username\n",
    "df.content=df.content.str.replace(\"@\\\\w+\",\"\")\n",
    "df.head()"
   ]
  },
  {
   "cell_type": "code",
   "execution_count": 7,
   "metadata": {},
   "outputs": [
    {
     "output_type": "execute_result",
     "data": {
      "text/plain": "      emotion                                            content\n0       empty   i know  i was listenin to bad habit earlier a...\n1     sadness  layin n bed with a headache  ughhhh...waitin o...\n2     sadness                funeral ceremony...gloomy friday...\n3  enthusiasm               wants to hang out with friends soon!\n4     neutral   we want to trade with someone who has houston...",
      "text/html": "<div>\n<style scoped>\n    .dataframe tbody tr th:only-of-type {\n        vertical-align: middle;\n    }\n\n    .dataframe tbody tr th {\n        vertical-align: top;\n    }\n\n    .dataframe thead th {\n        text-align: right;\n    }\n</style>\n<table border=\"1\" class=\"dataframe\">\n  <thead>\n    <tr style=\"text-align: right;\">\n      <th></th>\n      <th>emotion</th>\n      <th>content</th>\n    </tr>\n  </thead>\n  <tbody>\n    <tr>\n      <th>0</th>\n      <td>empty</td>\n      <td>i know  i was listenin to bad habit earlier a...</td>\n    </tr>\n    <tr>\n      <th>1</th>\n      <td>sadness</td>\n      <td>layin n bed with a headache  ughhhh...waitin o...</td>\n    </tr>\n    <tr>\n      <th>2</th>\n      <td>sadness</td>\n      <td>funeral ceremony...gloomy friday...</td>\n    </tr>\n    <tr>\n      <th>3</th>\n      <td>enthusiasm</td>\n      <td>wants to hang out with friends soon!</td>\n    </tr>\n    <tr>\n      <th>4</th>\n      <td>neutral</td>\n      <td>we want to trade with someone who has houston...</td>\n    </tr>\n  </tbody>\n</table>\n</div>"
     },
     "metadata": {},
     "execution_count": 7
    }
   ],
   "source": [
    "#remove punctuation\n",
    "df.content=df.content.str.replace(\"[[:punct:]]\",\"\")\n",
    "df.head()"
   ]
  },
  {
   "cell_type": "code",
   "execution_count": 8,
   "metadata": {},
   "outputs": [
    {
     "output_type": "execute_result",
     "data": {
      "text/plain": "      emotion                                            content\n0       empty   i know  i was listenin to bad habit earlier a...\n1     sadness  layin n bed with a headache  ughhhh...waitin o...\n2     sadness                funeral ceremony...gloomy friday...\n3  enthusiasm               wants to hang out with friends soon!\n4     neutral   we want to trade with someone who has houston...",
      "text/html": "<div>\n<style scoped>\n    .dataframe tbody tr th:only-of-type {\n        vertical-align: middle;\n    }\n\n    .dataframe tbody tr th {\n        vertical-align: top;\n    }\n\n    .dataframe thead th {\n        text-align: right;\n    }\n</style>\n<table border=\"1\" class=\"dataframe\">\n  <thead>\n    <tr style=\"text-align: right;\">\n      <th></th>\n      <th>emotion</th>\n      <th>content</th>\n    </tr>\n  </thead>\n  <tbody>\n    <tr>\n      <th>0</th>\n      <td>empty</td>\n      <td>i know  i was listenin to bad habit earlier a...</td>\n    </tr>\n    <tr>\n      <th>1</th>\n      <td>sadness</td>\n      <td>layin n bed with a headache  ughhhh...waitin o...</td>\n    </tr>\n    <tr>\n      <th>2</th>\n      <td>sadness</td>\n      <td>funeral ceremony...gloomy friday...</td>\n    </tr>\n    <tr>\n      <th>3</th>\n      <td>enthusiasm</td>\n      <td>wants to hang out with friends soon!</td>\n    </tr>\n    <tr>\n      <th>4</th>\n      <td>neutral</td>\n      <td>we want to trade with someone who has houston...</td>\n    </tr>\n  </tbody>\n</table>\n</div>"
     },
     "metadata": {},
     "execution_count": 8
    }
   ],
   "source": [
    "#remove links\n",
    "df.content=df.content.str.replace(\"http\\\\w+\",\"\")\n",
    "df.head()"
   ]
  },
  {
   "cell_type": "code",
   "execution_count": 9,
   "metadata": {},
   "outputs": [
    {
     "output_type": "execute_result",
     "data": {
      "text/plain": "      emotion                                            content\n0       empty   i knowi was listenin to bad habit earlier and...\n1     sadness  layin n bed with a headacheughhhh...waitin on ...\n2     sadness                funeral ceremony...gloomy friday...\n3  enthusiasm               wants to hang out with friends soon!\n4     neutral   we want to trade with someone who has houston...",
      "text/html": "<div>\n<style scoped>\n    .dataframe tbody tr th:only-of-type {\n        vertical-align: middle;\n    }\n\n    .dataframe tbody tr th {\n        vertical-align: top;\n    }\n\n    .dataframe thead th {\n        text-align: right;\n    }\n</style>\n<table border=\"1\" class=\"dataframe\">\n  <thead>\n    <tr style=\"text-align: right;\">\n      <th></th>\n      <th>emotion</th>\n      <th>content</th>\n    </tr>\n  </thead>\n  <tbody>\n    <tr>\n      <th>0</th>\n      <td>empty</td>\n      <td>i knowi was listenin to bad habit earlier and...</td>\n    </tr>\n    <tr>\n      <th>1</th>\n      <td>sadness</td>\n      <td>layin n bed with a headacheughhhh...waitin on ...</td>\n    </tr>\n    <tr>\n      <th>2</th>\n      <td>sadness</td>\n      <td>funeral ceremony...gloomy friday...</td>\n    </tr>\n    <tr>\n      <th>3</th>\n      <td>enthusiasm</td>\n      <td>wants to hang out with friends soon!</td>\n    </tr>\n    <tr>\n      <th>4</th>\n      <td>neutral</td>\n      <td>we want to trade with someone who has houston...</td>\n    </tr>\n  </tbody>\n</table>\n</div>"
     },
     "metadata": {},
     "execution_count": 9
    }
   ],
   "source": [
    "#remove tabs\n",
    "df.content=df.content.str.replace(\"[ |\\t]{2,}\",\"\")\n",
    "df.head()"
   ]
  },
  {
   "cell_type": "code",
   "execution_count": 10,
   "metadata": {},
   "outputs": [
    {
     "output_type": "execute_result",
     "data": {
      "text/plain": "      emotion                                            content\n0       empty  i knowi was listenin to bad habit earlier and ...\n1     sadness  layin n bed with a headacheughhhh...waitin on ...\n2     sadness                funeral ceremony...gloomy friday...\n3  enthusiasm               wants to hang out with friends soon!\n4     neutral  we want to trade with someone who has houston ...",
      "text/html": "<div>\n<style scoped>\n    .dataframe tbody tr th:only-of-type {\n        vertical-align: middle;\n    }\n\n    .dataframe tbody tr th {\n        vertical-align: top;\n    }\n\n    .dataframe thead th {\n        text-align: right;\n    }\n</style>\n<table border=\"1\" class=\"dataframe\">\n  <thead>\n    <tr style=\"text-align: right;\">\n      <th></th>\n      <th>emotion</th>\n      <th>content</th>\n    </tr>\n  </thead>\n  <tbody>\n    <tr>\n      <th>0</th>\n      <td>empty</td>\n      <td>i knowi was listenin to bad habit earlier and ...</td>\n    </tr>\n    <tr>\n      <th>1</th>\n      <td>sadness</td>\n      <td>layin n bed with a headacheughhhh...waitin on ...</td>\n    </tr>\n    <tr>\n      <th>2</th>\n      <td>sadness</td>\n      <td>funeral ceremony...gloomy friday...</td>\n    </tr>\n    <tr>\n      <th>3</th>\n      <td>enthusiasm</td>\n      <td>wants to hang out with friends soon!</td>\n    </tr>\n    <tr>\n      <th>4</th>\n      <td>neutral</td>\n      <td>we want to trade with someone who has houston ...</td>\n    </tr>\n  </tbody>\n</table>\n</div>"
     },
     "metadata": {},
     "execution_count": 10
    }
   ],
   "source": [
    "#remove blank spaces at the beginning\n",
    "df.content=df.content.str.replace(\"^ \",\"\")\n",
    "df.head()"
   ]
  },
  {
   "cell_type": "code",
   "execution_count": 11,
   "metadata": {},
   "outputs": [
    {
     "output_type": "execute_result",
     "data": {
      "text/plain": "      emotion                                            content\n0       empty  i knowi was listenin to bad habit earlier and ...\n1     sadness  layin n bed with a headacheughhhh...waitin on ...\n2     sadness                funeral ceremony...gloomy friday...\n3  enthusiasm               wants to hang out with friends soon!\n4     neutral  we want to trade with someone who has houston ...",
      "text/html": "<div>\n<style scoped>\n    .dataframe tbody tr th:only-of-type {\n        vertical-align: middle;\n    }\n\n    .dataframe tbody tr th {\n        vertical-align: top;\n    }\n\n    .dataframe thead th {\n        text-align: right;\n    }\n</style>\n<table border=\"1\" class=\"dataframe\">\n  <thead>\n    <tr style=\"text-align: right;\">\n      <th></th>\n      <th>emotion</th>\n      <th>content</th>\n    </tr>\n  </thead>\n  <tbody>\n    <tr>\n      <th>0</th>\n      <td>empty</td>\n      <td>i knowi was listenin to bad habit earlier and ...</td>\n    </tr>\n    <tr>\n      <th>1</th>\n      <td>sadness</td>\n      <td>layin n bed with a headacheughhhh...waitin on ...</td>\n    </tr>\n    <tr>\n      <th>2</th>\n      <td>sadness</td>\n      <td>funeral ceremony...gloomy friday...</td>\n    </tr>\n    <tr>\n      <th>3</th>\n      <td>enthusiasm</td>\n      <td>wants to hang out with friends soon!</td>\n    </tr>\n    <tr>\n      <th>4</th>\n      <td>neutral</td>\n      <td>we want to trade with someone who has houston ...</td>\n    </tr>\n  </tbody>\n</table>\n</div>"
     },
     "metadata": {},
     "execution_count": 11
    }
   ],
   "source": [
    "#remove blank spaces at the end\n",
    "df.content=df.content.str.replace(\" $\",\"\")\n",
    "df.head()"
   ]
  },
  {
   "cell_type": "code",
   "execution_count": 12,
   "metadata": {},
   "outputs": [
    {
     "output_type": "execute_result",
     "data": {
      "text/plain": "neutral       8638\nworry         8459\nhappiness     5209\nsadness       5165\nlove          3842\nsurprise      2187\nfun           1776\nrelief        1526\nhate          1323\nempty          827\nenthusiasm     759\nboredom        179\nanger          110\nName: emotion, dtype: int64"
     },
     "metadata": {},
     "execution_count": 12
    }
   ],
   "source": [
    "emotion_type=df.emotion.value_counts()\n",
    "emotion_type"
   ]
  },
  {
   "cell_type": "code",
   "execution_count": 13,
   "metadata": {},
   "outputs": [
    {
     "output_type": "execute_result",
     "data": {
      "text/plain": "0    i knowi was listenin to bad habit earlier and ...\n1    layin n bed with a headacheughhhh...waitin on ...\n2                  funeral ceremony...gloomy friday...\n3                 wants to hang out with friends soon!\n4    we want to trade with someone who has houston ...\nName: content, dtype: object"
     },
     "metadata": {},
     "execution_count": 13
    }
   ],
   "source": [
    "X=df.content\n",
    "X.head()"
   ]
  },
  {
   "cell_type": "code",
   "execution_count": 14,
   "metadata": {
    "tags": []
   },
   "outputs": [
    {
     "output_type": "stream",
     "name": "stdout",
     "text": "(40000,)\n"
    }
   ],
   "source": [
    "print(X.shape)"
   ]
  },
  {
   "cell_type": "code",
   "execution_count": 16,
   "metadata": {},
   "outputs": [
    {
     "output_type": "execute_result",
     "data": {
      "text/plain": "0         empty\n1       sadness\n2       sadness\n3    enthusiasm\n4       neutral\nName: emotion, dtype: object"
     },
     "metadata": {},
     "execution_count": 16
    }
   ],
   "source": [
    "y=df.emotion\n",
    "y.head()"
   ]
  },
  {
   "cell_type": "code",
   "execution_count": 17,
   "metadata": {
    "tags": []
   },
   "outputs": [
    {
     "output_type": "stream",
     "name": "stdout",
     "text": "(40000,)\n"
    }
   ],
   "source": [
    "print(y.shape)"
   ]
  },
  {
   "cell_type": "code",
   "execution_count": 18,
   "metadata": {},
   "outputs": [],
   "source": [
    "from sklearn.model_selection  import train_test_split\n",
    "X_train, X_test, y_train, y_test = train_test_split(X, y, test_size = 0.70, random_state = 82)"
   ]
  },
  {
   "cell_type": "code",
   "execution_count": 19,
   "metadata": {},
   "outputs": [
    {
     "output_type": "execute_result",
     "data": {
      "text/plain": "39316    got an re exam on tuesday. wish me luck / pray...\n7642     i got mcdonalds, surpisingly its not a popular...\n27239    is exhausted from a great weekend, and is look...\n1367                               aw. the sky is weeping.\n24255                         listening to varsity fanclub\nName: content, dtype: object"
     },
     "metadata": {},
     "execution_count": 19
    }
   ],
   "source": [
    "X_train.head()"
   ]
  },
  {
   "cell_type": "code",
   "execution_count": 20,
   "metadata": {},
   "outputs": [
    {
     "output_type": "execute_result",
     "data": {
      "text/plain": "39316      neutral\n7642       sadness\n27239    happiness\n1367        relief\n24255        worry\nName: emotion, dtype: object"
     },
     "metadata": {},
     "execution_count": 20
    }
   ],
   "source": [
    "y_train.head()"
   ]
  },
  {
   "cell_type": "code",
   "execution_count": 21,
   "metadata": {},
   "outputs": [
    {
     "output_type": "execute_result",
     "data": {
      "text/plain": "6162                                 no...i'm just tired..\n32424            awwwwi've got some photos of cute bunnies\n17915    24 hours and $400 later and i hav a new teleco...\n16358           i would but i'm afraid i got two left feet\n2560     i lost all my friends, i'm alone and sleepy..i...\nName: content, dtype: object"
     },
     "metadata": {},
     "execution_count": 21
    }
   ],
   "source": [
    "X_test.head()"
   ]
  },
  {
   "cell_type": "code",
   "execution_count": 22,
   "metadata": {},
   "outputs": [
    {
     "output_type": "execute_result",
     "data": {
      "text/plain": "6162     neutral\n32424       love\n17915       hate\n16358    sadness\n2560     sadness\nName: emotion, dtype: object"
     },
     "metadata": {},
     "execution_count": 22
    }
   ],
   "source": [
    "y_test.head()"
   ]
  },
  {
   "cell_type": "code",
   "execution_count": 23,
   "metadata": {},
   "outputs": [],
   "source": [
    "from sklearn.feature_extraction.text import CountVectorizer\n",
    "vect = CountVectorizer(stop_words='english')"
   ]
  },
  {
   "cell_type": "code",
   "execution_count": 24,
   "metadata": {},
   "outputs": [
    {
     "output_type": "execute_result",
     "data": {
      "text/plain": "{'got': 6395,\n 'exam': 5229,\n 'tuesday': 15337,\n 'wish': 16394,\n 'luck': 8952,\n 'pray': 11551,\n 'thank': 14635,\n 'xxx': 16681,\n 'mcdonalds': 9294,\n 'surpisingly': 14253,\n 'popular': 11465,\n 'drunk': 4743,\n 'food': 5741,\n 'option': 10701,\n 'sucks': 14123,\n 'diners': 4396,\n 'aren': 1336,\n '24hrs': 181,\n 'anymore': 1247,\n 'exhausted': 5255,\n 'great': 6487,\n 'weekend': 16174,\n 'looking': 8851,\n 'forward': 5801,\n 'week': 16170,\n 'aw': 1544,\n 'sky': 13370,\n 'weeping': 16189,\n 'listening': 8721,\n 'varsity': 15812,\n 'fanclub': 5386,\n 'believe': 1955,\n 'spotted': 13797,\n 'dick': 4349,\n 'english': 5046,\n 'dishhttp': 4460,\n 'tinyurl': 14918,\n 'com': 3374,\n 'aq8zg': 1318,\n 'hahaha': 6660,\n 'wow': 16576,\n 'thanks': 14640,\n 'bud': 2535,\n 'plan': 11296,\n 'pretend': 11602,\n 'costume': 3668,\n 'cold': 3340,\n 'wear': 16140,\n 'sweatshi': 14306,\n 'gotcha': 6397,\n 'place': 11288,\n 'atlantic': 1455,\n 'better': 2006,\n 'surfingplus': 14248,\n 'like': 8669,\n 'close': 3273,\n 'crazy': 3768,\n 'foreign': 5769,\n 'restaurants': 12308,\n 'mmm': 9645,\n 'fl': 5617,\n 'gas': 6086,\n 'pulleaase': 11780,\n 'dont': 4591,\n 'hate': 6805,\n 'ask': 1409,\n 'question': 11862,\n 'answer': 1218,\n 'given': 6249,\n 'time': 14889,\n 'just': 8085,\n 'sorry': 13642,\n 'day': 4062,\n 'life': 8652,\n 'lately': 8479,\n 'feel': 5462,\n 'ya': 16689,\n 'girl': 6225,\n 'lt': 8947,\n 'wangotangowhere': 16046,\n 'lol': 8799,\n 'nice': 10199,\n 'guys': 6622,\n 'rocked': 12450,\n 'tonight': 15048,\n 'yes': 16794,\n 'tacoma': 14393,\n 'kids': 8216,\n 'rule': 12578,\n 'feeling': 5465,\n 'gonna': 6340,\n 'fall': 5366,\n 'asleep': 1413,\n 'man': 9132,\n 'tha': 14628,\n 'mojitos': 9682,\n 'earlier': 4829,\n 'feelin': 5464,\n 'type': 15503,\n 'funny': 6000,\n 'hope': 7222,\n 'don': 4578,\n 'sickhttp': 13231,\n 'myloc': 9999,\n '20dd': 156,\n 'sadness': 12650,\n 'hang': 6740,\n 'apathetic': 1268,\n 'quot': 11891,\n 'know': 8298,\n 'quiz': 11887,\n 'took': 15085,\n 'yeti': 16817,\n 'pics': 11206,\n 'yday': 16728,\n 'fb': 5438,\n 'xx': 16680,\n 'jet': 7951,\n 'blue': 2197,\n 'okay': 10575,\n 'guess': 6586,\n 'cancel': 2743,\n 'flights': 5647,\n 'lot': 8889,\n 'backup': 1690,\n 'planes': 11299,\n 'class': 3218,\n 'haha': 6656,\n 'lolno': 8811,\n 'effing': 4922,\n 'cool': 3606,\n 'wu': 16609,\n 'tang': 14444,\n 'shis': 13121,\n 'gorgeous': 6385,\n 'represent': 12268,\n 'yea': 16731,\n 'awwww': 1602,\n 'sweet': 14318,\n 'good': 6342,\n 'happy': 6761,\n 'mother': 9821,\n 'momsyou': 9711,\n 'sure': 14240,\n 'hea': 6856,\n 'mankind': 9161,\n 'long': 8835,\n 'mow': 9865,\n 'lawn': 8509,\n 'soo': 13605,\n 'fucking': 5960,\n 'sick': 13225,\n 'wades': 15989,\n 'mood': 9755,\n 'swings': 14338,\n 'uhh': 15549,\n 'asshole': 1426,\n 'ahhhh': 943,\n 'hear': 6898,\n 'kiddo': 8213,\n 'feels': 5469,\n 'lots': 8893,\n 'cast': 2850,\n 'damn': 3981,\n 'interested': 7664,\n 'working': 16528,\n 'care2': 2796,\n 'live': 8734,\n 'sf': 13002,\n 'biiig': 2063,\n 'headache': 6864,\n 'really': 12042,\n 'supposed': 14233,\n 'home': 7160,\n 'couple': 3695,\n 'days': 4086,\n 'noti': 10374,\n 'borders': 2297,\n 'visa': 15908,\n 'little': 8731,\n 'boy': 2352,\n 'makin': 9101,\n 'mework': 9457,\n 'storm': 13978,\n 'wfd': 16244,\n 'lasagna': 8465,\n '45': 333,\n 'minutes': 9570,\n 'hungry': 7364,\n 'staing': 13854,\n 'spoil': 13778,\n 'pug': 11775,\n 'brother': 2493,\n 'max': 9264,\n 'passed': 10968,\n 'away': 1557,\n 'miss': 9593,\n 'hhrs': 7030,\n 'hey': 7009,\n 'mainly': 9087,\n 'depressing': 4264,\n 'people': 11078,\n 'cheating': 3021,\n 'love': 8911,\n 'going': 6317,\n 'bed': 1910,\n 'mom': 9687,\n 'll': 8753,\n 'look': 8846,\n 'tomorrow': 15033,\n 'definitely': 4182,\n 'want': 16049,\n 'graph': 6472,\n 'tweets': 15410,\n 'possible': 11483,\n 'yeaa': 16732,\n 'smaier': 13457,\n 'plus': 11374,\n 'knows': 8312,\n 'real': 12028,\n 'thing': 14744,\n 'ryan': 12614,\n 'stopped': 13972,\n 'following': 5727,\n 'twitter': 15455,\n 'relaxing': 12181,\n 'practice': 11542,\n 'graduation': 6443,\n 'tested': 14603,\n 'subjects': 14099,\n 'davis': 4054,\n 'michigan': 9484,\n 'hahha': 6678,\n 'work': 16511,\n 'youth': 16887,\n 'justice': 8086,\n 'lovely': 8923,\n 'alas': 995,\n 'cubs': 3862,\n 'gracious': 6433,\n 'stop': 13970,\n 'wrecking': 16588,\n 'house': 7281,\n 'soaking': 13534,\n 'bones': 2244,\n 'yesss': 16799,\n 'flash': 5622,\n 'shitty': 13129,\n 'takes': 14417,\n 'open': 10679,\n 'webpage': 16157,\n 'thhaanks': 14738,\n 'friend': 5882,\n 'sent': 12950,\n 'bck': 1864,\n 'messages': 9432,\n 'dunno': 4785,\n 'reply': 12255,\n 'credit': 3783,\n 'thts': 14823,\n 'practicing': 11544,\n 'smile': 13471,\n 'today': 14972,\n 'gunna': 6611,\n 'big': 2042,\n 'klaudine': 8269,\n '04182012154': 8,\n 'send': 12936,\n 'txtd': 15497,\n 'new': 10164,\n 'phone': 11163,\n 'right': 12391,\n 'second': 12889,\n 'gig': 6203,\n 'sippinn': 13304,\n 'whut': 16319,\n 'waterwe': 16108,\n 'sta': 13840,\n 'focused': 5698,\n 'job': 7977,\n 'alriiightt': 1069,\n 'drank': 4669,\n 'bank': 1776,\n 'holiday': 7142,\n 'happened': 6751,\n 'times': 14903,\n 'mums': 9940,\n 'ur': 15723,\n 'delle': 4216,\n 'shut': 13214,\n 'line': 8696,\n 'removed': 12224,\n 'locker': 8784,\n 'scene': 12791,\n 'bet': 2001,\n 'recite': 12086,\n 'speech': 13727,\n 'easily': 4846,\n 'dare': 4017,\n 'sleep': 13395,\n 'deprived': 4267,\n 'hot': 7261,\n 'coffee': 3332,\n 'nowit': 10402,\n 'fun': 5974,\n 'wanna': 16048,\n 'australia': 1517,\n 'england': 5044,\n 'shoes': 13147,\n 'circa': 3188,\n 'brand': 2379,\n 'totally': 15131,\n 'forgot': 5785,\n 'pink': 11246,\n 'radio': 11927,\n 'launched': 8499,\n 'listen': 8718,\n 'finish': 5574,\n 'assignment': 1429,\n 'round': 12521,\n 'buying': 2648,\n 'ice': 7417,\n 'creams': 3772,\n 'lawyer': 8512,\n 'knocked': 8293,\n 'kilter': 8230,\n 'hard': 6773,\n 'talking': 14431,\n 'pretty': 11608,\n 'didn': 4357,\n 'make': 9097,\n 'impression': 7518,\n 'loving': 8937,\n 'dreambears': 4685,\n 'britains': 2456,\n 'talent': 14424,\n 'spending': 13746,\n 'way': 16118,\n 'desktop': 4292,\n 'background': 1669,\n 'gm': 6290,\n 'withnow': 16424,\n 'http': 7313,\n 'podilates': 11387,\n 'gr': 6422,\n 'pp2_10_5_08': 11531,\n 'tr': 15168,\n 'im': 7479,\n 'kp06': 8343,\n 'surrealism': 14260,\n 'cute': 3906,\n 'louis': 8902,\n 'votton': 15967,\n 'superflat': 14212,\n 'monogram': 9738,\n 'takashi': 14411,\n 'murakami': 9948,\n 'music': 9964,\n 'fantastic': 5392,\n 'plastic': 11313,\n 'machine': 9035,\n 'lula': 8969,\n 'm8kcsq': 9016,\n 'happens': 6753,\n 'swine': 14334,\n 'flu': 5675,\n 'gets': 6171,\n '55hq2o': 462,\n '20': 143,\n 'followers': 5718,\n 'actual': 800,\n 'write': 16593,\n 'realistic': 12032,\n 'thinking': 14761,\n 'road': 12430,\n 'fuck': 5953,\n 'blink': 2160,\n 'weezer': 16193,\n 'doing': 4563,\n 'awesome': 1566,\n 'rachel': 11915,\n 'bday': 1866,\n 'pay': 11005,\n 'todayit': 14984,\n 'btw': 2522,\n 'seensam': 12908,\n 'prom': 11703,\n 'pix': 11278,\n 'wrong': 16601,\n 'cal': 2697,\n 'dachshund': 3949,\n 'rescue': 12286,\n 'foster': 5804,\n 'pup': 11799,\n 'soooooo': 13620,\n 'sad': 12632,\n 'leave': 8552,\n 'naw': 10087,\n 'tame': 14439,\n 'guy': 6618,\n 'voyager': 15969,\n 'style': 14089,\n 'medical': 9334,\n 'uni': 15635,\n 'disappointed': 4423,\n 'weren': 16235,\n 'purple': 11809,\n 'converse': 3585,\n 'turns': 15362,\n 'decemberists': 4141,\n 'ended': 5024,\n 'staying': 13909,\n 'latebut': 8476,\n 'night': 10224,\n 'different': 4372,\n 'chocolate': 3127,\n 'change': 2971,\n 'meet': 9356,\n 'yesterdaygr8': 16807,\n 'atmosphere': 1460,\n 'amp': 1132,\n 'discussion': 4449,\n 'bit': 2091,\n 'hollie': 7150,\n 'staed': 13846,\n 'crying': 3843,\n 'help': 6964,\n 'makeup': 9100,\n 'gots': 6402,\n 'fineand': 5566,\n 'shot': 13171,\n 'film': 5545,\n 'mention': 9410,\n 'downloading': 4644,\n 'fightstar': 5527,\n 'version': 15847,\n 'imogen': 7504,\n 'heap': 6895,\n 'hiide': 7056,\n 'seek': 12903,\n '15': 83,\n 'versions': 15849,\n 'song': 13599,\n 'siblings': 13223,\n 'left': 8569,\n 'bored': 2301,\n 'dad': 3950,\n 'gave': 6099,\n 'old': 10596,\n 'blackberry': 2116,\n 'doesn': 4546,\n 'scroll': 12861,\n 'ball': 1744,\n 'bold': 2232,\n 'iprocrastinate': 7725,\n 'far': 5394,\n 'character': 2986,\n 'flaw': 5634,\n 'gotta': 6403,\n 'session': 12982,\n '11': 56,\n 'emerge': 4994,\n 'covers': 3715,\n '36': 277,\n 'screw': 12856,\n 'disney': 4468,\n 'cracked': 3734,\n 'ta': 14377,\n 'whatsaidi': 16266,\n 'steady': 13911,\n 'dinner': 4398,\n 'mommy': 9703,\n 'grandma': 6453,\n 'hollywood': 7156,\n 'panera': 10917,\n 'iphone': 7721,\n 'trying': 15310,\n 'talk': 14427,\n 'lagso': 8402,\n 'isn': 7758,\n 'worry': 16561,\n 'calcutta': 2702,\n 'delhi': 4205,\n 'lucknow': 8957,\n '10': 33,\n 'absence': 723,\n 'school': 12805,\n 'reviens': 12345,\n '15h30': 86,\n 'sunburnt': 14185,\n 'horrible': 7239,\n 'owl': 10821,\n 'huh': 7338,\n 'signing': 13260,\n 'play': 11316,\n 'world': 16549,\n 'conflict': 3511,\n 'computer': 3476,\n 'running': 12592,\n 'slow': 13435,\n 'emailed': 4983,\n 'porch': 11468,\n 'anytime': 1255,\n 'come': 3386,\n 'knocking': 8294,\n 'gifford': 6197,\n 'lectures': 8562,\n 'page': 10859,\n 'halla': 6707,\n 'haloom': 6713,\n 'dear': 4122,\n 'fine': 5565,\n 'eeem': 4905,\n 'worrying': 16562,\n 'rationale': 11994,\n 'project': 11698,\n 'allah': 1020,\n 'eyaseer': 5306,\n 'inshallah': 7620,\n 'baltimore': 1752,\n 'beat': 1885,\n 'yankees': 16703,\n 'morning': 9780,\n 'think': 14756,\n 'hire': 7095,\n 'tranlsators': 15205,\n 'understands': 15606,\n 'wishing': 16399,\n 'money': 9725,\n 'sux': 14280,\n 'education': 4891,\n 'friday': 5875,\n 'freakin': 5832,\n 'annoying': 1208,\n 'daybuuut': 4069,\n 'tgif': 14625,\n 'fav': 5424,\n 'try': 15306,\n 'usuallya': 15755,\n 'quitter': 11886,\n 'case': 2840,\n 'include': 7541,\n 'follow': 5712,\n 'twitpic': 15448,\n '64g3b': 520,\n 'lucky': 8958,\n 'bought': 2331,\n 'magazine': 9058,\n 'later': 8480,\n 'comanche': 3376,\n 'saturday': 12741,\n 'car': 2781,\n 'definately': 4179,\n 'written': 16597,\n 'garage': 6077,\n 'rang': 11972,\n 'said': 12665,\n 'cost': 3660,\n '3k': 296,\n 'insurance': 7648,\n 'action': 791,\n 'ly': 9005,\n 'm8zfxi': 9017,\n 'pole': 11414,\n '__': 668,\n 'clients': 3255,\n 'everyday': 5199,\n 'pulling': 11782,\n 'knitting': 8289,\n 'desk': 4291,\n 'putting': 11822,\n 'minus': 9568,\n 'till': 14884,\n 'release': 12187,\n 'idea': 7427,\n 'gift': 6199,\n 'did': 4352,\n 'crochet': 3813,\n 'online': 10639,\n 'youtube': 16890,\n 'videos': 15875,\n 'showing': 13194,\n 'lefty': 8572,\n 'hahah': 6659,\n 'xd': 16665,\n 'cha': 2943,\n 'doin': 4562,\n 'watching': 16100,\n 'broncos': 2483,\n 'vs': 15973,\n 'chiefs': 3081,\n '1994': 121,\n 'montana': 9741,\n 'elway': 4979,\n 'nfl': 10184,\n 'network': 10158,\n 'nightmares': 10240,\n 'gamefu': 6067,\n 'kc': 8147,\n 'morningplan': 9794,\n 'church': 3167,\n 'followed': 5713,\n 'f1': 5316,\n 'lunch': 8975,\n 'mum': 9932,\n 'dads': 3957,\n 'dm': 4518,\n 'discussions': 4450,\n 'star': 13876,\n 'trek': 15241,\n 'wait': 16002,\n 'sec': 12887,\n 'hotdogging': 7263,\n 'sign': 13253,\n 'jesus': 7950,\n 'heals': 6889,\n 'everybody': 5197,\n 'ohh': 10548,\n 'def': 4169,\n 'tht': 14822,\n 'kenyatta': 8170,\n 'cam': 2723,\n 'minesry': 9552,\n 'pic': 11193,\n 'socialmediatv': 13545,\n 'recorded': 12097,\n 'viewable': 15884,\n 'social': 13543,\n 'media': 9333,\n 'tv': 15370,\n 'gt': 6574,\n 'ustre': 15751,\n '2njv': 232,\n 'ugh': 15540,\n 'waiting': 16006,\n 'visitors': 15917,\n 'pass': 10967,\n 'post': 11485,\n 'taking': 14419,\n 'forever': 5773,\n 'shoooooot': 13154,\n 'afraid': 876,\n 'say': 12760,\n 'oh': 10544,\n 'seeso': 12911,\n 'having': 6830,\n 'hehe': 6933,\n 'alot': 1056,\n 'az': 1629,\n 'finest': 5569,\n 'vol': 15949,\n 'intro': 7691,\n 'lookn': 8852,\n 'domina': 4575,\n 'sun': 14174,\n 'fits': 5606,\n 'draw': 4673,\n 'chicago': 3073,\n 'row': 12531,\n 'losing': 8884,\n 'game': 6061,\n 'need': 10107,\n 'win': 16360,\n 'soon': 13606,\n 'mondays': 9721,\n 'rock': 12448,\n 'paicularly': 10867,\n 'kind': 8234,\n 'sunday': 14186,\n 'taylor': 14493,\n 'dolton': 4573,\n 'jacob': 7858,\n 'chris': 3148,\n 'sister': 13316,\n 'heading': 6873,\n 'airpo': 975,\n 'mothers': 9824,\n 'uncles': 15592,\n 'ew': 5220,\n 'used': 15739,\n 'suicides': 14152,\n 'high': 7041,\n 'mix': 9628,\n 'sodas': 13552,\n 'drink': 4706,\n 'remember': 12210,\n 'enjoying': 5055,\n 'safe': 12658,\n 'pooling': 11444,\n 'paid': 10868,\n 'flight': 5646,\n 'headed': 6871,\n 'denver': 4246,\n 'yall': 16701,\n 'min': 9541,\n 'yeah': 16738,\n '10th': 53,\n 'greeting': 6512,\n 'advance': 850,\n 'brewing': 2424,\n 'ideas': 7430,\n 'things': 14749,\n 'keeping': 8154,\n 'fingers': 5572,\n 'crossed': 3819,\n 'hale': 6702,\n 'yeahhh': 16742,\n 'coolest': 3608,\n 'pa': 10840,\n 'match': 9238,\n 'grieco': 6524,\n 'goodbyeeee': 6344,\n 'arizona': 1350,\n 'weeks': 16185,\n 'mrscuz': 9887,\n 'workreally': 16538,\n 'gregi': 6516,\n 'hug': 7327,\n 'happymothersday': 6766,\n 'moms': 9709,\n 'sunshine': 14205,\n 'bag': 1710,\n 'stuff': 14070,\n 'bihday': 2053,\n 'chip': 3108,\n 'hanging': 6742,\n 'cousin': 3707,\n 'jimmy': 7963,\n 'hopefully': 7224,\n 'layed': 8516,\n '23': 173,\n 'teachers': 14508,\n 'city': 3196,\n 'near': 10097,\n 'mei': 9376,\n 'wonder': 16470,\n 'jobfield': 7980,\n 'marco': 9179,\n 'best': 1993,\n 'ahhh': 942,\n 'lincoln': 8692,\n 'run': 12587,\n 'hours': 7273,\n 'seeing': 12902,\n 'pennywise': 11073,\n 'year': 16751,\n 'kinda': 8235,\n 'bittersweet': 2104,\n 'hadnt': 6652,\n 'cried': 3800,\n 'actually': 801,\n 'read': 12018,\n 'upno': 15707,\n 'fair': 5355,\n 'separate': 12955,\n 'sistertoday': 13318,\n 'role': 12471,\n 'evil': 5216,\n 'aunt': 1505,\n 'played': 11321,\n 'basically': 1816,\n 've': 15818,\n 'listened': 8719,\n 'miley': 9523,\n 'cyrus': 3935,\n 'foueen': 5806,\n 'playing': 11328,\n 'bingo': 2076,\n 'ladies': 8393,\n 'bout': 2340,\n 'maybeyou': 9273,\n 'idk': 7436,\n 'sosososo': 13657,\n 'cory': 3655,\n 'lamb': 8418,\n 'hoursi': 7276,\n 'kid': 8209,\n 'ok': 10571,\n 'exciting': 5243,\n 'thought': 14795,\n 'sixx': 13329,\n 'davey': 4052,\n 'profile': 11687,\n 'radiator': 11926,\n 'boiled': 2229,\n 'dj': 4510,\n 'paypeople': 11015,\n 'cc': 2883,\n 'kickingnext': 8207,\n 'june': 8073,\n 'suppose': 14232,\n 'turn': 15358,\n 'sentence': 12951,\n 'outline': 10770,\n 'research': 12288,\n 'paper': 10934,\n 'hour': 7272,\n 'neck': 10103,\n 'hus': 7378,\n 'training': 15196,\n 'vote': 15961,\n 'mtv': 9903,\n 'movie': 9853,\n 'awards': 1553,\n 'doe': 4543,\n 'frustraded': 5936,\n 'eyes': 5310,\n 'hu': 7314,\n 'rigging': 12390,\n 'outso': 10783,\n 'shoutout': 13181,\n 'windows': 16365,\n 'finished': 5575,\n 'season': 12876,\n 'feet': 5471,\n 'baby': 1654,\n 'phat': 11146,\n 'farm': 5396,\n 'applebottoms': 1289,\n 'fubu': 5950,\n 'weak': 16135,\n 'double': 4624,\n 'visteon': 15922,\n 'belfast': 1951,\n 'years': 16761,\n 'salary': 12676,\n 'shows': 13196,\n 'stand': 13868,\n 'london': 8827,\n 'ha': 6636,\n 'surprisingly': 14258,\n 'considering': 3534,\n 'mountains': 9840,\n 'yay': 16713,\n 'journal': 8026,\n 'forget': 5778,\n 'does': 4544,\n 'flickr': 5642,\n 'longer': 8838,\n 'recognize': 12089,\n 'mail': 9082,\n 'addresses': 825,\n 'log': 8788,\n 'dun': 4780,\n 'travel': 15224,\n 'missing': 9600,\n 'shan': 13034,\n 'punjab': 11796,\n 'plans': 11304,\n 'messed': 9433,\n 'stuck': 14056,\n 'edwards': 4894,\n 'update': 15690,\n 'vet': 15853,\n 'tests': 14609,\n 'xrays': 16678,\n 'past': 10976,\n 'iï': 7845,\n '½ve': 17035,\n 'appament': 1276,\n 'itï': 7830,\n '½s': 17027,\n 'difficult': 4375,\n 'save': 12753,\n 'greenlake': 6507,\n '4we51': 421,\n 'summer': 14162,\n 'goodies': 6354,\n 'bagged': 1714,\n 'boot': 2282,\n 'including': 7546,\n 'cross': 3818,\n 'stitch': 13956,\n 'birds': 2084,\n 'craft': 3738,\n 'room': 12490,\n 'selling': 12928,\n 'sweetie': 14323,\n 'anybody': 1244,\n 'special': 13718,\n 'requests': 12275,\n 'thursday': 14841,\n 'bad': 1695,\n 'twtvite': 15491,\n '3koyqo': 297,\n 'aptw': 1315,\n 'engagements': 5041,\n 'register': 12155,\n 'able': 712,\n 'buy': 2646,\n 'pre': 11557,\n 'presale': 11586,\n 'mayhem': 9276,\n 'internet': 7671,\n 'wake': 16012,\n 'early': 4832,\n 'geez': 6121,\n 'villains': 15892,\n 'tolddd': 15012,\n 'thunder': 14833,\n 'rainy': 11955,\n 'scared': 12785,\n 'hairstylist': 6698,\n 'salon': 12682,\n 'telling': 14559,\n 'awwwwwwww': 1612,\n 'dried': 4702,\n 'glad': 6257,\n 'happier': 6755,\n 'barakitten': 1786,\n 'yah': 16696,\n 'july': 8066,\n 'thankyou': 14661,\n 'making': 9102,\n 'person': 11113,\n 'noes': 10302,\n 'brokenno': 2478,\n 'red': 12107,\n 'standby': 13871,\n 'light': 8661,\n 'checked': 3023,\n 'plug': 11368,\n 'fuse': 6017,\n 'inside': 7621,\n 'morningwe': 9798,\n 'seeeee': 12899,\n 'sat': 12734,\n 'couplemade': 3696,\n 'super': 14210,\n 'saying': 12764,\n 'goodbye': 6343,\n 'trusted': 15303,\n 'free': 5842,\n 'tried': 15258,\n 'edit': 4882,\n 'couldn': 3680,\n 'add': 814,\n 'namecan': 10043,\n 'pop': 11455,\n 'list': 8716,\n 'polaroid': 11413,\n 'roidweek': 12469,\n 'srsly': 13834,\n 'evr': 5218,\n 'barbacoa': 1787,\n '4w855': 411,\n 'operation': 10686,\n 'success': 14111,\n 'tired': 14925,\n 'tweeters': 15397,\n 'building': 2568,\n 'websites': 16159,\n 'blog': 2174,\n 'faux': 5423,\n 'gothy': 6400,\n 'chick': 3075,\n 'camden': 2727,\n 'punk': 11797,\n 'eat': 4853,\n 'hilaaaaarious': 7062,\n 'vernae': 15843,\n 'mate': 9243,\n 'fancy': 5387,\n 'finden': 5561,\n 'figure': 5529,\n 'calls': 2715,\n 'taltal': 14436,\n 'taken': 14414,\n 'aol': 1259,\n '96': 653,\n 'added': 815,\n 'coincidence': 3336,\n 'tal': 14422,\n 'head': 6862,\n 'thumping': 14832,\n 'care': 2795,\n 'shall': 13024,\n 'tweet': 15390,\n 'hardcore': 6774,\n 'jamie': 7873,\n 'everyoneeeeexxxxxxloser': 5204,\n 'omg': 10616,\n 'conce': 3480,\n 'madrigals': 9055,\n 'chills': 3098,\n 'piece': 11217,\n 'brooks': 2486,\n 'called': 2710,\n 'alumni': 1083,\n 'didnt': 4358,\n 'watched': 16098,\n 'marley': 9202,\n 'watch': 16095,\n 'twilight': 15431,\n 'jt': 8050,\n 'snl': 13515,\n 'hi': 7031,\n 'use': 15738,\n 'confusing': 3515,\n 'bubble': 2526,\n ...}"
     },
     "metadata": {},
     "execution_count": 24
    }
   ],
   "source": [
    "vect.fit(X_train)\n",
    "vect.vocabulary_"
   ]
  },
  {
   "cell_type": "code",
   "execution_count": 25,
   "metadata": {},
   "outputs": [],
   "source": [
    "X_train_transformed = vect.transform(X_train)\n",
    "X_test_transformed =vect.transform(X_test)"
   ]
  },
  {
   "cell_type": "code",
   "execution_count": 26,
   "metadata": {
    "tags": []
   },
   "outputs": [
    {
     "output_type": "stream",
     "name": "stdout",
     "text": "<class 'scipy.sparse.csr.csr_matrix'>\n  (0, 5229)\t1\n  (0, 6395)\t1\n  (0, 8952)\t1\n  (0, 11551)\t1\n  (0, 14635)\t1\n  (0, 15337)\t1\n  (0, 16394)\t1\n  (0, 16681)\t1\n  (1, 181)\t1\n  (1, 1247)\t1\n  (1, 1336)\t1\n  (1, 4396)\t1\n  (1, 4743)\t1\n  (1, 5741)\t1\n  (1, 6395)\t1\n  (1, 9294)\t1\n  (1, 10701)\t1\n  (1, 11465)\t1\n  (1, 14123)\t1\n  (1, 14253)\t1\n  (2, 5255)\t1\n  (2, 5801)\t1\n  (2, 6487)\t1\n  (2, 8851)\t1\n  (2, 16170)\t1\n  :\t:\n  (11996, 1295)\t1\n  (11996, 3254)\t1\n  (11996, 4301)\t1\n  (11996, 10164)\t2\n  (11996, 14698)\t1\n  (11996, 15310)\t1\n  (11996, 15455)\t1\n  (11997, 56)\t1\n  (11997, 256)\t1\n  (11997, 4832)\t1\n  (11997, 10237)\t1\n  (11997, 10246)\t1\n  (11997, 16118)\t1\n  (11998, 5465)\t1\n  (11998, 8968)\t1\n  (11998, 10118)\t1\n  (11998, 11782)\t1\n  (11998, 14205)\t1\n  (11998, 15609)\t1\n  (11999, 1648)\t1\n  (11999, 5782)\t1\n  (11999, 7880)\t1\n  (11999, 8731)\t1\n  (11999, 12406)\t1\n  (11999, 14889)\t1\n"
    }
   ],
   "source": [
    "print(type(X_train_transformed))\n",
    "print(X_train_transformed)"
   ]
  },
  {
   "cell_type": "code",
   "execution_count": 39,
   "metadata": {},
   "outputs": [
    {
     "output_type": "execute_result",
     "data": {
      "text/plain": "SVC(kernel='sigmoid', random_state=1)"
     },
     "metadata": {},
     "execution_count": 39
    }
   ],
   "source": [
    "from sklearn.svm import SVC\n",
    "svcclassifier = SVC(kernel = 'sigmoid', random_state = 1)\n",
    "svcclassifier.fit(X_train_transformed, y_train)"
   ]
  },
  {
   "cell_type": "code",
   "execution_count": 40,
   "metadata": {
    "tags": []
   },
   "outputs": [
    {
     "output_type": "stream",
     "name": "stdout",
     "text": "['neutral' 'neutral' 'worry' ... 'neutral' 'neutral' 'neutral']\n"
    }
   ],
   "source": [
    "y_pred = svcclassifier.predict(X_test_transformed)\n",
    "print(y_pred)"
   ]
  },
  {
   "cell_type": "code",
   "execution_count": 41,
   "metadata": {
    "tags": []
   },
   "outputs": [
    {
     "output_type": "stream",
     "name": "stdout",
     "text": "0.3344285714285714\n"
    }
   ],
   "source": [
    "from sklearn import metrics\n",
    "print(metrics.accuracy_score(y_test,y_pred))"
   ]
  },
  {
   "cell_type": "code",
   "execution_count": null,
   "metadata": {},
   "outputs": [],
   "source": []
  }
 ],
 "metadata": {
  "kernelspec": {
   "display_name": "Python 3",
   "language": "python",
   "name": "python3"
  },
  "language_info": {
   "codemirror_mode": {
    "name": "ipython",
    "version": 3
   },
   "file_extension": ".py",
   "mimetype": "text/x-python",
   "name": "python",
   "nbconvert_exporter": "python",
   "pygments_lexer": "ipython3",
   "version": "3.8.3-final"
  }
 },
 "nbformat": 4,
 "nbformat_minor": 4
}